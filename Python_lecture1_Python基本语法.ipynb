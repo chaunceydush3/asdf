{
 "cells": [
  {
   "cell_type": "markdown",
   "metadata": {
    "deletable": true,
    "editable": true
   },
   "source": [
    "# Python语言与经济大数据分析"
   ]
  },
  {
   "cell_type": "markdown",
   "metadata": {
    "deletable": true,
    "editable": true
   },
   "source": [
    "#郭峰（上海财经大学投资系副教授）\n",
    "#Email：guo.feng@mail.sufe.edu.cn\n",
    "#总目录：\n",
    "#第1讲 Python基本语法\n",
    "#第2讲 条件语句、循环与函数\n",
    "#第3讲 数据读取与存储\n",
    "#第4讲 文本分析入门\n",
    "#第5讲 网络爬虫入门\n",
    "#第6讲 数据处理入门\n",
    "#第7讲 数据可视化入门\n",
    "#参考文献：\n",
    "#刘宇宙，《Python3.5从零开始学》，清华大学出版社，2017年。\n",
    "#周耿，《Python社科大数据分析教程（讲义）》，2018年。\n",
    "#罗攀、蒋仟，《从零开始学Python网络爬虫》，机械工业出版社，2017年。\n",
    "#Muller and Guido ，《Python机器学习基础教程》，中国工信出版集团，2018年。\n",
    "#Wes McKinney，《利用Python进行数据分析》，机械工业出版社，2018年。"
   ]
  },
  {
   "cell_type": "markdown",
   "metadata": {
    "deletable": true,
    "editable": true
   },
   "source": [
    "# 前言 Python 基本介绍"
   ]
  },
  {
   "cell_type": "code",
   "execution_count": 1,
   "metadata": {
    "collapsed": true,
    "deletable": true,
    "editable": true
   },
   "outputs": [],
   "source": [
    "#Python 分为Python 2和Python两个不同系列，差异有点大，\n",
    "#新学者自然学习最新的Phthon 3.6，但其实很多程序是用python 2编制的（企业较多用Python 2）\n",
    "#安装程序包 WinPython-64bit-3.6.2.0Qt5"
   ]
  },
  {
   "cell_type": "code",
   "execution_count": 2,
   "metadata": {
    "collapsed": true,
    "deletable": true,
    "editable": true
   },
   "outputs": [],
   "source": [
    "#Python >>>表示进入交互模式，但往往少用它\n",
    "#很多第三方开发了基于Python的“集成开发环境”（IDE）\n",
    "#IDE集成了代码编写功能、分析功能、编译功能和调试功能。\n",
    "#IDE有多个，最流行的据说是PyCharm，本讲义使用的是Jupyter Notebook"
   ]
  },
  {
   "cell_type": "markdown",
   "metadata": {
    "deletable": true,
    "editable": true
   },
   "source": [
    "# 第1讲 Python基本语法"
   ]
  },
  {
   "cell_type": "markdown",
   "metadata": {
    "deletable": true,
    "editable": true
   },
   "source": [
    "# 2019-3-5\n",
    "#本讲目录\n",
    "#1.1 数据类型\n",
    "#1.2 变量\n",
    "#1.3 运算符\n",
    "#1.4 列表、元组\n",
    "#1.5 再论字符串\n",
    "#1.6 字典、集合"
   ]
  },
  {
   "cell_type": "markdown",
   "metadata": {
    "deletable": true,
    "editable": true
   },
   "source": [
    "# 1.1 数据类型"
   ]
  },
  {
   "cell_type": "code",
   "execution_count": 3,
   "metadata": {
    "collapsed": true,
    "deletable": true,
    "editable": true
   },
   "outputs": [],
   "source": [
    "#整数（int）  1   -100\n",
    "#浮点数（float）  3.1415926   6.77e10\n",
    "#布尔值（bool） True False\n",
    "#空值   None\n",
    "#字符串（string）   ’abc'   \"xyz\"  \"I am ok\"\n",
    "#两个单引号或双引号，如果字符串本身包含单引号，则用双引号表示，\n",
    "#字符串不能跨行"
   ]
  },
  {
   "cell_type": "code",
   "execution_count": 4,
   "metadata": {
    "collapsed": false,
    "deletable": true,
    "editable": true
   },
   "outputs": [
    {
     "name": "stdout",
     "output_type": "stream",
     "text": [
      "hello world\n"
     ]
    }
   ],
   "source": [
    "#print是python的输出语句\n",
    "print ('hello world')\n",
    "#print (123)\n",
    "#print (1+1)\n",
    "#print ('x', 5)\n",
    "#print ('pi=%.2f' % 3.1415926) #格式化输出\n",
    "#Python 3 与Python 2 输出 方式不同，print（x） vs print x"
   ]
  },
  {
   "cell_type": "code",
   "execution_count": 5,
   "metadata": {
    "collapsed": false,
    "deletable": true,
    "editable": true
   },
   "outputs": [
    {
     "name": "stdout",
     "output_type": "stream",
     "text": [
      "<class 'float'>\n",
      "<class 'str'>\n",
      "<class 'int'>\n",
      "<class 'bool'>\n"
     ]
    }
   ],
   "source": [
    "#数据类型判断\n",
    "print(type(42.0))  #浮点数\n",
    "print(type('i am ok'))  #字符串\n",
    "print(type (1))  #整数\n",
    "print(type (True)) #布尔值\n"
   ]
  },
  {
   "cell_type": "code",
   "execution_count": 6,
   "metadata": {
    "collapsed": false,
    "deletable": true,
    "editable": true
   },
   "outputs": [
    {
     "name": "stdout",
     "output_type": "stream",
     "text": [
      "3.14\n",
      "5\n",
      "556\n",
      "5.0\n",
      "6.0\n",
      "True\n",
      "False\n",
      "False\n",
      "111\n"
     ]
    }
   ],
   "source": [
    "#数据类型转换\n",
    "print(str(3.14))\n",
    "print(int(5.66))   #向下取整，如何四舍五入呢？\n",
    "print(int('556'))\n",
    "print(float('5'))\n",
    "print(float(6))\n",
    "print(bool(8))  #非零即真\n",
    "print(bool(0.0)) \n",
    "print(bool(None))\n",
    "print(str(111))"
   ]
  },
  {
   "cell_type": "code",
   "execution_count": 7,
   "metadata": {
    "collapsed": false,
    "deletable": true,
    "editable": true
   },
   "outputs": [
    {
     "data": {
      "text/plain": [
       "2.67"
      ]
     },
     "execution_count": 7,
     "metadata": {},
     "output_type": "execute_result"
    }
   ],
   "source": [
    "#四舍五入（不严谨的称呼）： https://blog.csdn.net/qq_39234705/article/details/82817703\n",
    "round(2.675, 2)"
   ]
  },
  {
   "cell_type": "markdown",
   "metadata": {
    "deletable": true,
    "editable": true
   },
   "source": [
    "# 1.2 变量"
   ]
  },
  {
   "cell_type": "code",
   "execution_count": 8,
   "metadata": {
    "collapsed": false,
    "deletable": true,
    "editable": true
   },
   "outputs": [
    {
     "name": "stdout",
     "output_type": "stream",
     "text": [
      "10 abc True\n"
     ]
    }
   ],
   "source": [
    "#变量可以是任意数据类型，但在某些时候只能是一种类型\n",
    "#变量赋值  赋值符号左边为变量\n",
    "x=10\n",
    "y='abc'\n",
    "z=True\n",
    "print(x,y,z)\n",
    "#Python中语句结束不需要以分号结束，变量不需要提前定义（Matlab需要）"
   ]
  },
  {
   "cell_type": "code",
   "execution_count": 9,
   "metadata": {
    "collapsed": true,
    "deletable": true,
    "editable": true
   },
   "outputs": [],
   "source": [
    "#变量（标识符）命名规则\n",
    "#包含字母、数字、下划线等，但不能是数字开头，以下无效：2things，my-name\n",
    "#大小写敏感\n",
    "#不能是程序关键字（如if，and等） Python 3 共有33个关键字，都不能作为变量名使用（刘宇宙，p33）\n",
    "#关键词列表：https://blog.csdn.net/lifanping/article/details/78501046\n",
    "#最好是变量英文名称或汉语拼音，方便理解\n"
   ]
  },
  {
   "cell_type": "code",
   "execution_count": 10,
   "metadata": {
    "collapsed": false,
    "deletable": true,
    "editable": true
   },
   "outputs": [
    {
     "name": "stdout",
     "output_type": "stream",
     "text": [
      "1 2 3\n",
      "2 1\n"
     ]
    }
   ],
   "source": [
    "#别样赋值,序列解包\n",
    "x,y,z=1,2,3\n",
    "print(x,y,z)\n",
    "#x，y数值交换\n",
    "x,y=y,x\n",
    "print(x,y)\n",
    "#但还没有使用过这种方法【在处理知网数据中使用过这个方法，20190117补充】"
   ]
  },
  {
   "cell_type": "markdown",
   "metadata": {
    "deletable": true,
    "editable": true
   },
   "source": [
    "# 1.3 运算符"
   ]
  },
  {
   "cell_type": "code",
   "execution_count": 11,
   "metadata": {
    "collapsed": true,
    "deletable": true,
    "editable": true
   },
   "outputs": [],
   "source": [
    "#算术运算  加（+）减（-）乘（*）除（/）整除（//）余数（%）\n",
    "#幂运算 **\n",
    "#逻辑运算 and ，or，not\n",
    "#关系（比较）运算 <,>,<=,>=,==,!=\n",
    "#成员运算 in ， not in\n",
    "#位运运算\n",
    "#身份运算"
   ]
  },
  {
   "cell_type": "code",
   "execution_count": 12,
   "metadata": {
    "collapsed": false,
    "deletable": true,
    "editable": true
   },
   "outputs": [
    {
     "name": "stdout",
     "output_type": "stream",
     "text": [
      "11\n",
      "11\n",
      "1\n"
     ]
    }
   ],
   "source": [
    "#算术运算，\n",
    "a=1\n",
    "b=10\n",
    "c=a+b\n",
    "print(c)\n",
    "print(a+b)\n",
    "print(10%3)"
   ]
  },
  {
   "cell_type": "code",
   "execution_count": 13,
   "metadata": {
    "collapsed": false,
    "deletable": true,
    "editable": true
   },
   "outputs": [
    {
     "name": "stdout",
     "output_type": "stream",
     "text": [
      "ab\n",
      "aaaaa\n",
      "我爱祖国\n",
      "我_爱祖国\n",
      "我_b\n",
      "d:/python/temp/abc1.docx\n"
     ]
    }
   ],
   "source": [
    "# 字符串也可以相加！！！\n",
    "print(\"a\"+\"b\")\n",
    "print(\"a\"*5)\n",
    "\n",
    "a='我'\n",
    "b='爱祖国'\n",
    "print(a+b)\n",
    "print(a+'_'+b)\n",
    "print(a+'_'+'b') \n",
    "\n",
    "#因为字符串可以相加，所以文件目录名，网址等都可以相加了\n",
    "path='d:/python/temp/'  #python当中\\是转义符，转义符的具体含义下文详述\n",
    "filename='abc1.docx'\n",
    "print(path+filename)"
   ]
  },
  {
   "cell_type": "code",
   "execution_count": 14,
   "metadata": {
    "collapsed": false,
    "deletable": true,
    "editable": true
   },
   "outputs": [
    {
     "name": "stdout",
     "output_type": "stream",
     "text": [
      "False\n",
      "True\n",
      "True\n",
      "True\n",
      "True\n"
     ]
    }
   ],
   "source": [
    "#关系运算\n",
    "print(5==8)\n",
    "print(7!=5)\n",
    "print(4<=6)\n",
    "print(4>1 and 4<5)\n",
    "print(1<4<5)"
   ]
  },
  {
   "cell_type": "code",
   "execution_count": 15,
   "metadata": {
    "collapsed": false,
    "deletable": true,
    "editable": true
   },
   "outputs": [
    {
     "name": "stdout",
     "output_type": "stream",
     "text": [
      "False\n",
      "True\n",
      "False\n",
      "3\n",
      "True\n",
      "False\n",
      "False\n",
      "False\n",
      "True\n",
      "False\n",
      "False\n",
      "False\n",
      "False\n",
      "True\n"
     ]
    }
   ],
   "source": [
    "#逻辑运算\n",
    "print(3==5)\n",
    "print(3==5 or 1==5/5)\n",
    "print(3==5 and 1==5/5)\n",
    "print(1+2 or 3+4)\n",
    "print(True and True)\n",
    "print(True and False)\n",
    "print(False and True)\n",
    "print(False and False)\n",
    "print(True and True)   #True\n",
    "print(True and False)  #False\n",
    "print(False and True)  #False\n",
    "print(False and False) #False\n",
    "print(not True)        #False\n",
    "print(not False)       #True"
   ]
  },
  {
   "cell_type": "code",
   "execution_count": 16,
   "metadata": {
    "collapsed": false,
    "deletable": true,
    "editable": true
   },
   "outputs": [
    {
     "name": "stdout",
     "output_type": "stream",
     "text": [
      "3 1.5\n"
     ]
    }
   ],
   "source": [
    "#赋值运算符\n",
    "a=1\n",
    "b=2\n",
    "a=a+b\n",
    "b=a/b\n",
    "#a=1+b//a\n",
    "#a=a+1\n",
    "#a+=a*6\n",
    "#a=b=5*7\n",
    "#a=b==5*7  \n",
    "#a=b==5*8 \n",
    "print(a,b)"
   ]
  },
  {
   "cell_type": "code",
   "execution_count": 17,
   "metadata": {
    "collapsed": false,
    "deletable": true,
    "editable": true
   },
   "outputs": [
    {
     "name": "stdout",
     "output_type": "stream",
     "text": [
      "True\n"
     ]
    },
    {
     "ename": "TypeError",
     "evalue": "'in <string>' requires string as left operand, not int",
     "output_type": "error",
     "traceback": [
      "\u001b[1;31m---------------------------------------------------------------------------\u001b[0m",
      "\u001b[1;31mTypeError\u001b[0m                                 Traceback (most recent call last)",
      "\u001b[1;32m<ipython-input-17-8b2aa69256c0>\u001b[0m in \u001b[0;36m<module>\u001b[1;34m()\u001b[0m\n\u001b[0;32m      1\u001b[0m \u001b[1;31m# 成员运算,结果为True 或者 False\u001b[0m\u001b[1;33m\u001b[0m\u001b[1;33m\u001b[0m\u001b[0m\n\u001b[0;32m      2\u001b[0m \u001b[0mprint\u001b[0m\u001b[1;33m(\u001b[0m\u001b[1;34m'a'\u001b[0m \u001b[1;32min\u001b[0m \u001b[1;34m'abc'\u001b[0m\u001b[1;33m)\u001b[0m\u001b[1;33m\u001b[0m\u001b[0m\n\u001b[1;32m----> 3\u001b[1;33m \u001b[0mprint\u001b[0m\u001b[1;33m(\u001b[0m\u001b[0ma\u001b[0m \u001b[1;32min\u001b[0m  \u001b[1;34m'abc'\u001b[0m\u001b[1;33m)\u001b[0m\u001b[1;33m\u001b[0m\u001b[0m\n\u001b[0m\u001b[0;32m      4\u001b[0m \u001b[1;33m\u001b[0m\u001b[0m\n\u001b[0;32m      5\u001b[0m \u001b[0mwords\u001b[0m\u001b[1;33m=\u001b[0m\u001b[1;34m'我是上海财经大学的一名学生，我正在努力学习python语言'\u001b[0m\u001b[1;33m\u001b[0m\u001b[0m\n",
      "\u001b[1;31mTypeError\u001b[0m: 'in <string>' requires string as left operand, not int"
     ]
    }
   ],
   "source": [
    "# 成员运算,结果为True 或者 False\n",
    "print('a' in 'abc')\n",
    "print(a in  'abc')\n",
    "\n",
    "words='我是上海财经大学的一名学生，我正在努力学习python语言'\n",
    "for word in words:\n",
    "    if word=='我':\n",
    "        print(word)\n"
   ]
  },
  {
   "cell_type": "code",
   "execution_count": null,
   "metadata": {
    "collapsed": true,
    "deletable": true,
    "editable": true
   },
   "outputs": [],
   "source": [
    "#运算优先级\n",
    "#符合基本数学逻辑：先乘除，后加减，小括号优先\n",
    "#python运算符网络参考资料：\n",
    "#https://www.cnblogs.com/kongjiangbing/p/7258535.html"
   ]
  },
  {
   "cell_type": "markdown",
   "metadata": {
    "deletable": true,
    "editable": true
   },
   "source": [
    "# 1.4 列表与元组"
   ]
  },
  {
   "cell_type": "code",
   "execution_count": null,
   "metadata": {
    "collapsed": true,
    "deletable": true,
    "editable": true
   },
   "outputs": [],
   "source": [
    "#在Python 中，最基本的数据结构是序列（sequence）。\n",
    "#序列中的每个元素被分配一个序号，即元素的位置，也称索引\n",
    "#第一个索引是0，第二个索引是1，以此类推，最后一个元素索引为-1，倒数第二个为-2\n",
    "#序列可以分为列表、元组等，字符串也可以视为列表"
   ]
  },
  {
   "cell_type": "code",
   "execution_count": null,
   "metadata": {
    "collapsed": true,
    "deletable": true,
    "editable": true
   },
   "outputs": [],
   "source": [
    "#列表 用中括号表示 [10, 20, 30, 40]\n",
    "a=[1,2,3]\n",
    "b=[4,5,6]\n",
    "c=a+b     #[1,2,3,4,5,6] 序列相加是连接操作\n",
    "print(c)"
   ]
  },
  {
   "cell_type": "code",
   "execution_count": null,
   "metadata": {
    "collapsed": true,
    "deletable": true,
    "editable": true
   },
   "outputs": [],
   "source": [
    "#列表可以嵌套，多维列表\n",
    "a=[[1,2],[3,4,5,6],[7,8,9]]\n",
    "print(a)"
   ]
  },
  {
   "cell_type": "code",
   "execution_count": null,
   "metadata": {
    "collapsed": true,
    "deletable": true,
    "editable": true
   },
   "outputs": [],
   "source": [
    "#列表的访问,从零开始！ \n",
    "a=[1,2,3]\n",
    "print(a[0],a[1],a[2])\n",
    "\n",
    "a=[[1,2],[3,4,5,6],[7,8,9]]\n",
    "print(a[1]) #[3,4,5,6]       \n",
    "print(a[1][2])   #5\n",
    "\n",
    "#列表的赋值和改变\n",
    "a[1][2]=6 \n",
    "print(a)"
   ]
  },
  {
   "cell_type": "code",
   "execution_count": null,
   "metadata": {
    "collapsed": true,
    "deletable": true,
    "editable": true
   },
   "outputs": [],
   "source": [
    "#列表的分片\n",
    "num=[1,2,3,4,5,6,7,8,9,10]\n",
    "a=num[1:3] #取索引为1(第二)和2（第三）的元素，左闭右开的“区间”\n",
    "b=num[-3:-1]\n",
    "print(a,b)"
   ]
  },
  {
   "cell_type": "code",
   "execution_count": null,
   "metadata": {
    "collapsed": true,
    "deletable": true,
    "editable": true
   },
   "outputs": [],
   "source": [
    "#列表的相关函数\n",
    "a=[1,2,3,4,5]\n",
    "del(a[0])  #删除后的列表为[2,3,4,5] \n",
    "print(a)\n",
    "print(len(a))      #列表元素的数量\n",
    "print(3 in a)      # 判断，True\n",
    "print(max(a))    #取列表最大值\n",
    "print(min(a))     #取列表最小值\n",
    "print(list(a))   #将其他迭代类型转为列表\n",
    "print(a)"
   ]
  },
  {
   "cell_type": "code",
   "execution_count": null,
   "metadata": {
    "collapsed": true,
    "deletable": true,
    "editable": true
   },
   "outputs": [],
   "source": [
    "##列表相关方法\n",
    "a=[1,2,3,4,5,3]  \n",
    "b=[6,7,8]\n",
    "a.append(50)  #在列表末尾添加元素\n",
    "a_count=a.count(3)  #统计a中3出现的次数\n",
    "#a.extend(b) #a末尾添加b\n",
    "#a_index=a.index(3) #找到3的索引位置\n",
    "#a.insert(3,9) #在索引3处插入9，其他后移\n",
    "#cc=a.pop() #移除最后一个元素，a少了3，cc返回的是3\n",
    "#a.pop(3) #将索引为3的元素删一个，从最后开始\n",
    "#a.remove(3) #将值为3的元素（第一个）删一个，从最前开始\n",
    "#a.reverse() #反向列表中的元素\n",
    "#a.sort() #对列表进行排序\n",
    "print(a)\n",
    "print(a_count)\n",
    "#print(a_index)\n",
    "#print(a_index)\n",
    "#print(cc)"
   ]
  },
  {
   "cell_type": "code",
   "execution_count": null,
   "metadata": {
    "collapsed": true,
    "deletable": true,
    "editable": true
   },
   "outputs": [],
   "source": [
    "#列表相关方法\n",
    "t=['a','b','c']\n",
    "t.append('x')\n",
    "#t2=['v','f']\n",
    "#t.extend(t2)\n",
    "#t.sort() # 对于多维列表，按第一个元素排序\n",
    "#t.sort(reverse=True)#降序排列\n",
    "#删除元素，制定下标\n",
    "#t.pop(1) #删除所以为1的元素\n",
    "#t.pop() #删除最后一个元素\n",
    "#del t[1:3] #删除多个元素\n",
    "#t.count('a') #统计'a'出现的次数\n",
    "#t.reverse() # 倒序\n",
    "print(t)"
   ]
  },
  {
   "cell_type": "code",
   "execution_count": null,
   "metadata": {
    "collapsed": true,
    "deletable": true,
    "editable": true
   },
   "outputs": [],
   "source": [
    "#列表生成式  \n",
    "a1=range(1,11)\n",
    "a2=[x*x for x in range(1,5)]\n",
    "a3=[x*x for  x in range(1,11) if x%2==0]\n",
    "a4=[m+n for m in 'ab' for n in 'xyz']\n",
    "a5=[\"Hello\", \"World\", \"IBM\", \"APPle\"]\n",
    "a6=[s.lower() for s in a5 ]\n",
    "print(a2)\n",
    "#这些列表生成式在后面的具体编程时，非常有用处"
   ]
  },
  {
   "cell_type": "code",
   "execution_count": null,
   "metadata": {
    "collapsed": true,
    "deletable": true,
    "editable": true
   },
   "outputs": [],
   "source": [
    "#元组（turple）\n",
    "#元组是不可变序列\n",
    "#用逗号分隔了一些值，自动创建了元组\n",
    "#tuple函数的功能与list函数功能基本一致，只是不可改变，所以用小括号\n",
    "#函数和方法类同列表，但不可修改\n",
    "x=(1,2) \n",
    "#x[0]=2\n",
    "print(x)"
   ]
  },
  {
   "cell_type": "markdown",
   "metadata": {
    "deletable": true,
    "editable": true
   },
   "source": [
    "# 1.5 再论字符串"
   ]
  },
  {
   "cell_type": "code",
   "execution_count": null,
   "metadata": {
    "collapsed": true,
    "deletable": true,
    "editable": true
   },
   "outputs": [],
   "source": [
    "#字符串是一个序列，如同列表\n",
    "fruit='banana'\n",
    "a=fruit[1] #下标从0开始\n",
    "print(a)\n",
    "print(len(fruit))  #字符串长度，len()函数\n",
    "#for letter in fruit:\n",
    "#    print(letter)\n"
   ]
  },
  {
   "cell_type": "code",
   "execution_count": null,
   "metadata": {
    "collapsed": true,
    "deletable": true,
    "editable": true
   },
   "outputs": [],
   "source": [
    "i=0\n",
    "fruit=\"banana\"\n",
    "while i<len(fruit):\n",
    "    letter=fruit[i]\n",
    "    print(letter)\n",
    "    i+=1\n",
    "print(i)"
   ]
  },
  {
   "cell_type": "code",
   "execution_count": null,
   "metadata": {
    "collapsed": true,
    "deletable": true,
    "editable": true
   },
   "outputs": [],
   "source": [
    "#字符串的计算\n",
    "a=\"abc\"\n",
    "b=\"xyz\"\n",
    "print(a+b) #拼接\n",
    "\n",
    "c=a+b\n",
    "d=c[2:5]  #切片\n",
    "print(d)"
   ]
  },
  {
   "cell_type": "code",
   "execution_count": null,
   "metadata": {
    "collapsed": true,
    "deletable": true,
    "editable": true
   },
   "outputs": [],
   "source": [
    "# 切片操作是指按照步长，截取从起始索引到结束索引，但不包含结束索引的所有元素，将步长设为-1，就可以反序切片\n",
    "#s=['M','o','n','t','y',' ','P','y','t','o','n']\n",
    "s='Monty Python'\n",
    "print(s[0:5])  #'Monty'\n",
    "print(s[6:12]) #'Python'\n",
    "print(s[:5])\n",
    "print(s[6:])\n",
    "print(s[:])\n",
    "print(s[5:5])  #空"
   ]
  },
  {
   "cell_type": "code",
   "execution_count": null,
   "metadata": {
    "collapsed": true,
    "deletable": true,
    "editable": true
   },
   "outputs": [],
   "source": [
    "#字符串方法：搜索与替换\n",
    "word='  banana  '\n",
    "word.find('na')  #查找字符串’na‘第一次出现的位置\n",
    "word.find('na',3) # 指定查找的起始位置\n",
    "word.find('na',3,5) #指定查找的起始和终止位置\n",
    "word.replace('na','oo') #用'oo'替换 'na'\n",
    "word2='aabs....d\\\\ndab'  #乱写的一个东西  \\n为换行，再加一个转义字符，保持“\\n”的字面原意\n",
    "word3=word2.replace('.','')\n",
    "print(word2,word3)"
   ]
  },
  {
   "cell_type": "code",
   "execution_count": null,
   "metadata": {
    "collapsed": true,
    "deletable": true,
    "editable": true
   },
   "outputs": [],
   "source": [
    "#其他字符串方法\n",
    "word=' hello word '\n",
    "word.capitalize() # 将字符串的第一个字符转换为大写\n",
    "print(word.lower())   # 全小写\n",
    "print(word.upper())   # 全大写\n",
    "print(word.rstrip()) #去除右边空格\n",
    "print(word.lstrip())  #去除左边空格\n",
    "print(word.strip())   #去除两边空格\n",
    "#去空格在网络爬虫中使用较多，文件两侧莫名多了一些空格，可以用此删除"
   ]
  },
  {
   "cell_type": "code",
   "execution_count": null,
   "metadata": {
    "collapsed": true,
    "deletable": true,
    "editable": true
   },
   "outputs": [],
   "source": [
    "#字符串分割符切片\n",
    "#语法：str.split(str=\"\",num=string.count(str)),其中str代表制定操作的字符串，\n",
    "#st代表分隔符，默认为空格；num代表分割次数，返回结果为分割后的字符串\n",
    "word='do it now'\n",
    "wordn=word.split() #空格分割\n",
    "#wordn=word.split('i') #用i分割\n",
    "time1='2018-4-15'\n",
    "timen=time1.split('-')\n",
    "print(wordn)\n",
    "print(timen)"
   ]
  },
  {
   "cell_type": "code",
   "execution_count": null,
   "metadata": {
    "collapsed": true,
    "deletable": true,
    "editable": true
   },
   "outputs": [],
   "source": [
    "# 字符串注意事项\n",
    "word=' hello word '\n",
    "#word[0]='H' #字符串是常量，不可修改\n",
    "word='Hello word '#可以重新整体赋值\n",
    "#word=word.capitalize()#修改后重新赋值给word，丢弃旧的\n",
    "print(word)"
   ]
  },
  {
   "cell_type": "code",
   "execution_count": null,
   "metadata": {
    "collapsed": true,
    "deletable": true,
    "editable": true
   },
   "outputs": [],
   "source": [
    "# 操作符 in\n",
    "'a' in 'banana'"
   ]
  },
  {
   "cell_type": "code",
   "execution_count": null,
   "metadata": {
    "collapsed": true,
    "deletable": true,
    "editable": true
   },
   "outputs": [],
   "source": [
    "fruit=\"banaaaddddana\"\n",
    "count=1\n",
    "for letter in fruit:\n",
    "    if letter=='a':\n",
    "        count=count+1\n",
    "print(count)"
   ]
  },
  {
   "cell_type": "code",
   "execution_count": null,
   "metadata": {
    "collapsed": true,
    "deletable": true,
    "editable": true
   },
   "outputs": [],
   "source": [
    "#统计字符个数\n",
    "fruit=\"我爱我的祖国，我的祖国爱我吗\"\n",
    "count=1\n",
    "for letter in fruit:\n",
    "    if letter=='祖':\n",
    "        count=count+1\n",
    "print(count)"
   ]
  },
  {
   "cell_type": "code",
   "execution_count": null,
   "metadata": {
    "collapsed": true,
    "deletable": true,
    "editable": true
   },
   "outputs": [],
   "source": [
    "#字符串与数值混合\n",
    "i=5\n",
    "print('Value is：', i)\n",
    "print('I repeat, the value is：', i)"
   ]
  },
  {
   "cell_type": "code",
   "execution_count": null,
   "metadata": {
    "collapsed": true,
    "deletable": true,
    "editable": true
   },
   "outputs": [],
   "source": [
    "#字符串规则\n",
    "#英文原始 ASCII\n",
    "#中文 GB2312\n",
    "#统一 Unicode\n",
    "#统一优化 UTF-8\n",
    "#Python3中，字符串是以UTF-8编码的，支持多语言\n",
    "#<meta charset=\"UTF-8\"> 表示该网页用的是UTF-8编码"
   ]
  },
  {
   "cell_type": "code",
   "execution_count": null,
   "metadata": {
    "collapsed": true,
    "deletable": true,
    "editable": true
   },
   "outputs": [],
   "source": [
    "# 格式化输出\n",
    "# %m.n 浮点型输出\n",
    "# %d 整数输出\n",
    "# %s 字符串输出\n",
    "# 详见刘宇宙p84\n",
    "price=700\n",
    "print('今天茅台股票的价格是'+str(price)+'元')\n",
    "print('今天茅台股票的价格是%f元' % price)"
   ]
  },
  {
   "cell_type": "code",
   "execution_count": null,
   "metadata": {
    "collapsed": true,
    "deletable": true,
    "editable": true
   },
   "outputs": [],
   "source": [
    "x=5\n",
    "y=10\n",
    "print('比100高的比例： %.2f%% ，人数:%d' % (x, y))"
   ]
  },
  {
   "cell_type": "code",
   "execution_count": null,
   "metadata": {
    "collapsed": true,
    "deletable": true,
    "editable": true
   },
   "outputs": [],
   "source": [
    "#转义字符(详见刘宇宙，p82)\n",
    "print('精诚所至\\n金石为开') # 换行\n",
    "print('精诚所至\\\\n金石为开')\n",
    "print('精诚所至'+'\\n'+'金石为开')\n",
    "print('精诚所至'+'\\\\n'+'金石为开')"
   ]
  },
  {
   "cell_type": "markdown",
   "metadata": {
    "deletable": true,
    "editable": true
   },
   "source": [
    "# 1.6 字典与集合"
   ]
  },
  {
   "cell_type": "code",
   "execution_count": null,
   "metadata": {
    "collapsed": true,
    "deletable": true,
    "editable": true
   },
   "outputs": [],
   "source": [
    "#字典，dict，全称dictionary，使用键-值（key:value)存储数据，具有极快的查找速度。\n",
    "#键key的值是唯一的，一个key只能对应一个value，value值可以重复\n",
    "#key-value关系类似于映射）\n",
    "#多次对一个key 存储value，后面的值会覆盖前面的值\n",
    "#key可以是整数，实数，也可以是字符串，这是字典的伟大之处\n",
    "#字典用大括号{}标识，（回忆：列表为[],元组为（））\n",
    "#key与value之间用冒号分割，各项（键/值）之间用逗号分割\n",
    "#空字典用{}表示"
   ]
  },
  {
   "cell_type": "code",
   "execution_count": null,
   "metadata": {
    "collapsed": true,
    "deletable": true,
    "editable": true
   },
   "outputs": [],
   "source": [
    "# 字典基本模式\n",
    "gdp={2015:10000,2016:20000,2017:30000,2018:40000}\n",
    "print(gdp[2017])\n",
    "chengji={'小明':95,'小王':75,'小张':85,'小刘':'不及格'}   #不同类型数据格式可以拼接\n",
    "print(chengji['小刘'])\n"
   ]
  },
  {
   "cell_type": "code",
   "execution_count": null,
   "metadata": {
    "collapsed": true,
    "deletable": true,
    "editable": true
   },
   "outputs": [],
   "source": [
    "#d.key(),d.value() 分别得到key和value的列表\n",
    "gdp={2015:10000,2016:20000,2017:30000,2018:40000}\n",
    "print(gdp.keys())\n",
    "print(gdp.values())\n",
    "#d.items()得到（key,value）元组组合的列表\n",
    "#gdp.items()\n",
    "\n",
    "#判断某个key是否存在\n",
    "\n",
    "#2015 in gdp\n",
    "\n",
    "#'小郭' in chengji\n"
   ]
  },
  {
   "cell_type": "code",
   "execution_count": null,
   "metadata": {
    "collapsed": true,
    "deletable": true,
    "editable": true
   },
   "outputs": [],
   "source": [
    "# 字典与列表的区别\n",
    "#字典是无序的，列表是有序的\n",
    "#字典有key，查找快，列表无key，查找慢\n",
    "# 增加元错操作对比\n",
    "#d['new']=x 字典增加一对key和value\n",
    "#s.append(x) 列表增加一个元素\n",
    "\n",
    "gdp[2013]=500\n",
    "print(gdp)\n",
    "#del gdp[2015]    #删除之后改变原始数据，不能重复运行本命令块\n",
    "#print(gdp)\n",
    "print(len(gdp))  #统计字典键的个数"
   ]
  },
  {
   "cell_type": "code",
   "execution_count": null,
   "metadata": {
    "collapsed": true,
    "deletable": true,
    "editable": true
   },
   "outputs": [],
   "source": [
    "#字典排序的问题\n",
    "#字典属于集合，本身无序，需要转化为list才能排序"
   ]
  },
  {
   "cell_type": "code",
   "execution_count": null,
   "metadata": {
    "collapsed": true,
    "deletable": true,
    "editable": true
   },
   "outputs": [],
   "source": [
    "#字典方法\n",
    "gdp={2015:10000,2016:20000,2017:30000,2018:40000}\n",
    "gdp.clear()   #清空字典\n",
    "print(gdp)\n",
    "gdp={2015:10000,2016:20000,2017:30000,2018:40000}\n",
    "b=gdp.get(2017)  #返回指定键的值，如果键不在字典中，返回默认值。\n",
    "print(b)\n",
    "\n",
    "#常见字典内置方法，参见刘宇宙（2017，p374），ps：以及字符串方法、列表方法"
   ]
  },
  {
   "cell_type": "code",
   "execution_count": null,
   "metadata": {
    "collapsed": true,
    "deletable": true,
    "editable": true
   },
   "outputs": [],
   "source": [
    "#字典的应用：分类统计（回过头再来学）\n",
    "#从Python标准库当中引入模块，用import \n",
    "#允许引入多个模块，但各个模块之间需要用逗号隔开\n",
    "\n",
    "import random\n",
    "def dice():\n",
    "    y=random.choice([1,2,3,4,5,6])\n",
    "    return y\n",
    "d={}\n",
    "for i in range(1000):\n",
    "    a=dice()+dice()\n",
    "    if a in d.keys():\n",
    "        d[a]+=1\n",
    "    else:\n",
    "        d[a]=1\n",
    "print(d)\n"
   ]
  },
  {
   "cell_type": "code",
   "execution_count": null,
   "metadata": {
    "collapsed": true,
    "deletable": true,
    "editable": true
   },
   "outputs": [],
   "source": [
    "#集合\n",
    "#set和dict类似，一组key的集合，不存储数据\n",
    "#set元素之间没有顺序\n",
    "#set可以求交集、并集、差集,判断是否可以子集\n",
    "a=set([1,2,3,4,5,7,8])\n",
    "b=set([1,2,5,7,9,10])\n",
    "print(a-b)\n",
    "print(a&b)\n",
    "print(a|b)"
   ]
  },
  {
   "cell_type": "code",
   "execution_count": null,
   "metadata": {
    "collapsed": true,
    "deletable": true,
    "editable": true
   },
   "outputs": [],
   "source": [
    "A1=set([\"姜文\",\"葛优\",\"周润发\",\"刘嘉玲\",\"陈坤\"])  #电影1的主角\n",
    "A2=set([\"姜文\",\"葛优\",\"周韵\",\"舒淇\",\"文章\"])  #电影2的主角\n",
    "print(A1 & A2)\n",
    "print(A1 | A2)\n",
    "print(A1 - A2)"
   ]
  },
  {
   "cell_type": "code",
   "execution_count": null,
   "metadata": {
    "collapsed": true,
    "deletable": true,
    "editable": true
   },
   "outputs": [],
   "source": [
    "A1=\"a;b;c;d;\"\n",
    "A2=\"c;d;e;f;\"\n",
    "print(A1[0:-1])\n",
    "a1=set(A1[0:-1].split(';'))\n",
    "a2=set(A2.split(';'))\n",
    "print(a1)\n",
    "print(a2)\n",
    "print(a1 & a2)\n",
    "print(len(a1 & a2))"
   ]
  },
  {
   "cell_type": "code",
   "execution_count": null,
   "metadata": {
    "collapsed": true,
    "deletable": true,
    "editable": true
   },
   "outputs": [],
   "source": [
    "#本讲结束，下一讲：条件语句、循环与函数"
   ]
  }
 ],
 "metadata": {
  "kernelspec": {
   "display_name": "Python 3",
   "language": "python",
   "name": "python3"
  },
  "language_info": {
   "codemirror_mode": {
    "name": "ipython",
    "version": 3
   },
   "file_extension": ".py",
   "mimetype": "text/x-python",
   "name": "python",
   "nbconvert_exporter": "python",
   "pygments_lexer": "ipython3",
   "version": "3.5.2"
  }
 },
 "nbformat": 4,
 "nbformat_minor": 2
}
