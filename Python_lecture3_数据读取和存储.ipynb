{
 "cells": [
  {
   "cell_type": "markdown",
   "metadata": {},
   "source": [
    "# Python语言与经济大数据分析"
   ]
  },
  {
   "cell_type": "markdown",
   "metadata": {},
   "source": [
    "# 第3讲 数据读取和存储"
   ]
  },
  {
   "cell_type": "markdown",
   "metadata": {},
   "source": [
    "#郭峰（上海财经大学投资系副教授）\n",
    "#Email：guo.feng@mail.sufe.edu.cn\n",
    "#2019-03-19 \n",
    "#本讲目录\n",
    "#3.1 csv和txt数据读取\n",
    "#3.2 word的读取\n",
    "#3.3 数据存储\n",
    "#3.4 第三方模块的引入\n",
    "#3.5 实战案例:批量生成文件；批量修改变量名\n",
    "#3.6 Mysql基本操作"
   ]
  },
  {
   "cell_type": "markdown",
   "metadata": {},
   "source": [
    "# 3.1 txt和csv数据读取"
   ]
  },
  {
   "cell_type": "code",
   "execution_count": null,
   "metadata": {},
   "outputs": [],
   "source": [
    "#txt文件阅读\n",
    "# 常见的数据读取方式为csv，txt等\n",
    "#读取文件的模式有三种\n",
    "#r(只读模式，默认)，w（只写模式，不可读，不存在则创建；存在则删除内容），a（追加模式，可读，不存在则创建，存在则追加内容）\n",
    "#读取数据后要关闭文件，f.close(),否则可能出错\n",
    "# 可以先指定路径，再读取，也可以直接读取(默认文件夹)"
   ]
  },
  {
   "cell_type": "code",
   "execution_count": null,
   "metadata": {},
   "outputs": [],
   "source": [
    "#读取txt文件\n",
    "path='D:/python/郭峰Python讲义/数据与结果/'\n",
    "wanke=open(path+'万科2016short.txt','r',encoding='gbk')   #gdk 可以用来读中文\n",
    "data=wanke.read()  #data是一个字符串\n",
    "print(data)\n",
    "wanke.close()  #不关闭的话，这个txt文件就没法在文件夹打开"
   ]
  },
  {
   "cell_type": "code",
   "execution_count": null,
   "metadata": {},
   "outputs": [],
   "source": [
    "#创建txt文件\n",
    "path='D:/python/郭峰Python讲义/数据与结果/'\n",
    "wanke2=open(path+'万科2016short2.txt','w',encoding='gbk')   #gdk 用来可以读中文"
   ]
  },
  {
   "cell_type": "code",
   "execution_count": null,
   "metadata": {},
   "outputs": [],
   "source": [
    "#csv数据读写\n",
    "#csv（comma-separated values，逗号分割值），有时候也称为字符分割值，因为分隔符也可以不是逗号\n",
    "#csv以纯文本形式存储表格数据（数字和文本等）\n",
    "\n",
    "path='D:/python/郭峰Python讲义/数据与结果/'\n",
    "gdp=open(path+'gdp.csv','r')\n",
    "data=gdp.read()  #读取所有\n",
    "print(data)   #data是一个字符串，并非一个结构化数据框，python处理结构化数据为pandas，第6讲详细讲解\n",
    "#print(data.split('\\n'))\n",
    "gdp.close()  #关闭后这里仍存在\n",
    "\n",
    "gdp2=open(path+'gdp2.csv','w')\n"
   ]
  },
  {
   "cell_type": "code",
   "execution_count": null,
   "metadata": {},
   "outputs": [],
   "source": [
    "#有文献推荐使用with的读取方式\n",
    "# with代码块执行完任务时，内部会自动关闭并释放文件资源\n",
    "#with open(filepath,'r',encoding=encoding, errors='rgnore') as file:\n",
    "#    data=file.read()\n",
    "with open(path+'gdp.csv','r',encoding='gbk') as gdp:\n",
    "    g=gdp.read()    #readlines()全部读取\n",
    "print(g)\n",
    "\n",
    "with open(path+'gdp.csv','r',encoding='gbk') as gdp:\n",
    "    g2=gdp.readlines()    #readlines()按行读取\n",
    "print(g2)"
   ]
  },
  {
   "cell_type": "code",
   "execution_count": null,
   "metadata": {},
   "outputs": [],
   "source": [
    "file = open(path+\"actors.csv\",encoding='gbk')\n",
    "data = file.read()   # 读取所有\n",
    "file.close()\n",
    "print(data)"
   ]
  },
  {
   "cell_type": "code",
   "execution_count": null,
   "metadata": {},
   "outputs": [],
   "source": [
    "file = open(path+\"actors.csv\",encoding='gbk')\n",
    "lines=file.readlines()\n",
    "for line in lines:         #上述两行也可以直接合并成一行\n",
    "    print(line) # 读取一行(如果只读取前10行怎么办？) \n",
    "    #print(line.split(','))\n",
    "file.close()"
   ]
  },
  {
   "cell_type": "code",
   "execution_count": null,
   "metadata": {},
   "outputs": [],
   "source": [
    "#另一种读取csv的方法\n",
    "import csv  #读取csv，需要import一下\n",
    "path='D:/python/郭峰Python讲义/数据与结果/'\n",
    "csvfile=open(path+'gdp.csv')\n",
    "c=csv.reader(csvfile)\n",
    "for row in c:\n",
    "    print(row)"
   ]
  },
  {
   "cell_type": "markdown",
   "metadata": {},
   "source": [
    "# 3.2 word和excel的读取"
   ]
  },
  {
   "cell_type": "code",
   "execution_count": null,
   "metadata": {},
   "outputs": [],
   "source": [
    "# 先安装 pip install python-docx\n",
    "# 参考资料：https://blog.csdn.net/woshisangsang/article/details/75221723\n",
    "# 更详细的：https://blog.csdn.net/u011932355/article/details/51769803\n",
    "#python-docx模块的几个概念：\n",
    "#document对象，表示一个word文档。\n",
    "#paragraph对象，表示word文档中的一个段落\n",
    "#paragraph对象的text属性，表示段落中的文本内容。\n",
    "\n",
    "import docx\n",
    "path='D:/python/郭峰Python讲义/数据与结果/'\n",
    "wordtest=docx.Document(path+\"wordtest.docx\")  #\"wordtest.docx\"可以改为其他指定路径\n",
    "print(\"段落数:\"+str(len(wordtest.paragraphs))) #段落数,每个回车隔离一段\n",
    "#输出每一段的内容\n",
    "for para in wordtest.paragraphs:\n",
    "    print(para.text)\n",
    "\n",
    "#输出段落编号及段落内容\n",
    "for i in range(len(wordtest.paragraphs)):\n",
    "    print(\"第\"+str(i)+\"段的内容是：\"+wordtest.paragraphs[i].text)"
   ]
  },
  {
   "cell_type": "code",
   "execution_count": null,
   "metadata": {},
   "outputs": [],
   "source": [
    "#excel的读取\n",
    "import xlrd\n",
    "path='D:/python/郭峰Python讲义/数据与结果/'\n",
    "data = xlrd.open_workbook(path+'gdp.xlsx')\n",
    "table = data.sheets()[0]          #通过索引顺序获取\n",
    "#table = data.sheet_by_index(0) #通过索引顺序获取\n",
    "#table = data.sheet_by_name(u'Sheet1')#通过名称获取\n",
    "#print(table.row_values(10))  #某行数值\n",
    "print(table.col_values(1))  #某列数值\n",
    "#print(table.nrows)  #行数\n",
    "#print(table.ncols)  #列数\n",
    "\n",
    "#print(table.cell(1,1).value)\n",
    "#print(table.cell(3,1).value)\n"
   ]
  },
  {
   "cell_type": "markdown",
   "metadata": {},
   "source": [
    "# 3.3 数据存储"
   ]
  },
  {
   "cell_type": "code",
   "execution_count": null,
   "metadata": {},
   "outputs": [],
   "source": [
    "#创建\n",
    "path='D:/python/郭峰Python讲义/数据与结果/'\n",
    "f=open(path+'txttest.txt','w+')\n",
    "f.write('hello word')\n",
    "f.close()"
   ]
  },
  {
   "cell_type": "code",
   "execution_count": null,
   "metadata": {},
   "outputs": [],
   "source": [
    "#创建csv\n",
    "path='D:/python/郭峰Python讲义/数据与结果/'\n",
    "gdp=open(path+'gdp1.csv','w')  #原来的文件夹没有，现在就生成了这个文件\n",
    "gdp.close()"
   ]
  },
  {
   "cell_type": "code",
   "execution_count": null,
   "metadata": {},
   "outputs": [],
   "source": [
    "#追加\n",
    "path='D:/python/郭峰Python讲义/数据与结果/'\n",
    "gdp=open(path+'gdp1.csv','a')  #原来的文件夹没有，现在就生成了这个文件\n",
    "gdp.close()"
   ]
  },
  {
   "cell_type": "code",
   "execution_count": null,
   "metadata": {},
   "outputs": [],
   "source": [
    "#写入excel表格\n",
    "#使用python的第三方库xlwt，可以将数据写入excel表格中\n",
    "#通过PIP安装：pip install xlwt\n",
    "import xlwt\n",
    "path='D:/python/郭峰Python讲义/数据与结果/'\n",
    "book=xlwt.Workbook(encoding='utf-8')  #创建工作簿\n",
    "sheet=book.add_sheet('表1')           #创建工作表\n",
    "sheet.write(0,0,'I')                  #在相应单元格写入相应数据，第一和第二个是单元格的位置\n",
    "sheet.write(1,1,'Love')                 \n",
    "sheet.write(2,2,'Python')\n",
    "book.save(path+'test.xls')                #保存到文件中\n"
   ]
  },
  {
   "cell_type": "markdown",
   "metadata": {},
   "source": [
    "# 3.4 模块引入"
   ]
  },
  {
   "cell_type": "code",
   "execution_count": null,
   "metadata": {},
   "outputs": [],
   "source": [
    "#从Python标准库当中引入模块，用import \n",
    "#允许引入多个模块，但各个模块之间需要用逗号隔开\n",
    "#import modelue1,modelue2\n",
    "import math\n",
    "print(math.pi*2 )\n",
    "print(math.exp(2))\n",
    "print(math.sin(0.6)) #0.6为随便填的一个数"
   ]
  },
  {
   "cell_type": "code",
   "execution_count": null,
   "metadata": {},
   "outputs": [],
   "source": [
    "#引述python中的\"模块\"\n",
    "import random\n",
    "x=random.random()  #0-1之间的均匀分布\n",
    "if (x>0.5):          #等价于if x>0.5:\n",
    "    print('you win, the number is ',x)\n",
    "else:\n",
    "    print('you false, the number is ',x)"
   ]
  },
  {
   "cell_type": "code",
   "execution_count": null,
   "metadata": {},
   "outputs": [],
   "source": [
    "#更多random函数\n",
    "random.randint(12,20) #均匀整数\n",
    "random.uniform(10,20) #均匀区间\n",
    "random.choice([1,2,3,4,5,6])\n",
    "random.choice('abcdef') #集合选取"
   ]
  },
  {
   "cell_type": "markdown",
   "metadata": {},
   "source": [
    "# 3.5 实战操作：批量生成文件和批量修改变量名"
   ]
  },
  {
   "cell_type": "code",
   "execution_count": null,
   "metadata": {},
   "outputs": [],
   "source": [
    "#【实战操作】批量生成\"省份*年份\"的空白txt文件\n",
    "path='D:/python/郭峰Python讲义/数据与结果/'\n",
    "pathn='D:/python/郭峰Python讲义/数据与结果/nodata/'\n",
    "file1='省份名称.txt'\n",
    "file2='年份.txt'\n",
    "prov_name = open(path+file1,encoding='gbk',errors='replace')\n",
    "prov_name=prov_name.read()\n",
    "prov_name=prov_name.split('\\n')\n",
    "print(prov_name)\n",
    "year = open(path+file2,encoding='gbk',errors='replace')\n",
    "year=year.read()\n",
    "year=year.split('\\n')\n",
    "print(year)\n",
    "for y in year:\n",
    "    for p in prov_name:\n",
    "        if y!='' and p!='':\n",
    "            f= open(pathn+str(p)+str(y)+'.txt','w+') \n",
    "            f.close()\n",
    "        else:\n",
    "            continue"
   ]
  },
  {
   "cell_type": "code",
   "execution_count": null,
   "metadata": {},
   "outputs": [],
   "source": [
    "#【实战操作】生成\"城市*年份\"的空白txt文件,利用的是城市地方工作报告文件夹目录\n",
    "#os提供程序与操作系统直接操作的各个功能\n",
    "#学习资料：https://www.cnblogs.com/captain08/p/9022544.html\n",
    "import os\n",
    "path='D:/python/郭峰Python讲义/数据与结果/政府工作报告/'\n",
    "pathn='D:/python/郭峰Python讲义/数据与结果/nodata/'\n",
    "files= os.listdir(path)  #得到文件夹下的所有文件名称  ]\n",
    "for file in files:\n",
    "    fn= open(pathn+file,'w+') \n",
    "    fn.close()"
   ]
  },
  {
   "cell_type": "code",
   "execution_count": null,
   "metadata": {},
   "outputs": [],
   "source": [
    "#【实战操作】变量名重命名，批量处理,csv格式，改变csv第一行的变量名\n",
    "import os    \n",
    "import csv\n",
    "\n",
    "path='D:/python/郭峰Python讲义/数据与结果/'\n",
    "path1='D:/python/郭峰Python讲义/数据与结果/空气质量/'\n",
    "path2='D:/python/郭峰Python讲义/数据与结果/空气质量new/'\n",
    "\n",
    "siteid=open(path+'空气质量站点列表_20181204.csv','r',encoding='utf-8',newline='') \n",
    "siteid = csv.reader(siteid)\n",
    "rows = [row for row in siteid]\n",
    "id_dict = {}\n",
    "for i in range(0,len(rows)):\n",
    "    id_dict[rows[i][0]] = rows[i][1]\n",
    "\n",
    "files= os.listdir(path1)  #得到文件夹下的所有文件名称\n",
    "for file in files:\n",
    "    f=open(path1+file,'r',encoding='utf-8',newline='') \n",
    "    reader_org = csv.reader(f)\n",
    "    rows_org = [row_org for row_org in reader_org]\n",
    "    for i in range(0,len(rows_org[0])):\n",
    "        rows_org[0][i]=id_dict[rows_org[0][i]]\n",
    "    fn=open(path2+file,'w+',encoding='utf-8',newline='') \n",
    "    c=csv.writer(fn)\n",
    "    for i in range(0,len(rows_org)):\n",
    "        c.writerow((rows_org[i]))\n",
    "    f.close()\n",
    "    fn.close()"
   ]
  },
  {
   "cell_type": "markdown",
   "metadata": {},
   "source": [
    "# 3.6 Mysql数据库基本操作"
   ]
  },
  {
   "cell_type": "code",
   "execution_count": null,
   "metadata": {},
   "outputs": [],
   "source": [
    "#数据库使用mysql，这个最为常用\n",
    "#同时使用navicat premium ，可以对mysql进行可视化\n",
    "#软件和激活教程：https://www.jianshu.com/p/5f693b4c9468【激活非常麻烦，但终于成功了】\n",
    "#数据库学习资料：http://www.runoob.com/python/python-mysql.html\n",
    "\n",
    "#链接数据库\n",
    "#!/usr/bin/python\n",
    "# -*- coding: UTF-8 -*-\n",
    "\n",
    "import pymysql\n",
    "\n",
    "# 打开数据库连接\n",
    "cnx = pymysql.connect(user='root', password='guo840306', host='localhost', database='cnki',charset='utf8')  #填写数据库信息\n",
    "\n",
    "# 使用cursor()方法获取操作游标 \n",
    "cursor =cnx.cursor()\n",
    "\n",
    "# 使用execute方法执行SQL语句\n",
    "cursor.execute(\"SELECT VERSION()\")\n",
    "\n",
    "# 使用 fetchone() 方法获取一条数据\n",
    "data = cursor.fetchone()\n",
    "\n",
    "print( \"Database version : %s \" % data)\n",
    "\n",
    "# 关闭数据库连接\n",
    "cnx.close()"
   ]
  },
  {
   "cell_type": "code",
   "execution_count": null,
   "metadata": {},
   "outputs": [],
   "source": [
    "#创建数据库表\n",
    "#!/usr/bin/python\n",
    "# -*- coding: UTF-8 -*-\n",
    "\n",
    "import pymysql\n",
    "\n",
    "# 打开数据库连接\n",
    "cnx = pymysql.connect(user='root', password='guo840306', host='localhost', database='cnki',charset='utf8')  #填写数据库信息\n",
    "\n",
    "# 使用cursor()方法获取操作游标 \n",
    "cursor = cnx.cursor()\n",
    "\n",
    "# 如果数据表已经存在使用 execute() 方法删除表。\n",
    "cursor.execute(\"DROP TABLE IF EXISTS EMPLOYEE\")  #刚开始没有，如果执行这一句，要报错，但不妨碍绩效创建\n",
    "\n",
    "# 创建数据表SQL语句\n",
    "sql = \"\"\"CREATE TABLE EMPLOYEE (\n",
    "         FIRST_NAME  CHAR(20) NOT NULL,\n",
    "         LAST_NAME  CHAR(20),\n",
    "         AGE INT,  \n",
    "         SEX CHAR(1),\n",
    "         INCOME FLOAT )\"\"\"\n",
    "\n",
    "cursor.execute(sql)\n",
    "\n",
    "# 关闭数据库连接\n",
    "cnx.close()#数据库插入操作\n",
    "#!/usr/bin/python\n",
    "# -*- coding: UTF-8 -*-\n",
    "\n",
    "import pymysql\n",
    "\n",
    "# 打开数据库连接\n",
    "cnx = pymysql.connect(user='root', password='guo840306', host='localhost', database='cnki',charset='utf8')  #填写数据库信息\n",
    "\n",
    "# 使用cursor()方法获取操作游标 \n",
    "cursor = cnx.cursor()\n",
    "\n",
    "# SQL 插入语句\n",
    "sql = \"\"\"INSERT INTO EMPLOYEE(FIRST_NAME,LAST_NAME, AGE, SEX, INCOME)\n",
    "         VALUES ('Mac', 'Mohan', 20, 'M', 2000)\"\"\"\n",
    "try:\n",
    "   # 执行sql语句\n",
    "   cursor.execute(sql)\n",
    "   # 提交到数据库执行\n",
    "   cnx.commit()\n",
    "except:\n",
    "   # Rollback in case there is any error\n",
    "   cnx.rollback()\n",
    "\n",
    "# 关闭数据库连接\n",
    "cnx.close()"
   ]
  },
  {
   "cell_type": "code",
   "execution_count": null,
   "metadata": {},
   "outputs": [],
   "source": [
    "#数据库插入操作\n",
    "#!/usr/bin/python\n",
    "# -*- coding: UTF-8 -*-\n",
    "\n",
    "import pymysql\n",
    "\n",
    "# 打开数据库连接\n",
    "cnx = pymysql.connect(user='root', password='guo840306', host='localhost', database='cnki',charset='utf8')  #填写数据库信息\n",
    "\n",
    "# 使用cursor()方法获取操作游标 \n",
    "cursor = cnx.cursor()\n",
    "\n",
    "# SQL 插入语句\n",
    "sql = \"\"\"INSERT INTO EMPLOYEE(FIRST_NAME,LAST_NAME, AGE, SEX, INCOME)\n",
    "         VALUES ('Mac', 'Mohan', 20, 'M', 2000)\"\"\"\n",
    "try:\n",
    "   # 执行sql语句\n",
    "   cursor.execute(sql)\n",
    "   # 提交到数据库执行\n",
    "   cnx.commit()\n",
    "except:\n",
    "   # Rollback in case there is any error\n",
    "   cnx.rollback()\n",
    "\n",
    "# 关闭数据库连接\n",
    "cnx.close()"
   ]
  },
  {
   "cell_type": "code",
   "execution_count": null,
   "metadata": {},
   "outputs": [],
   "source": [
    "#数据库查询操作\n",
    "#Python查询Mysql使用 fetchone() 方法获取单条数据, 使用fetchall() 方法获取多条数据。\n",
    "#fetchone(): 该方法获取下一个查询结果集。结果集是一个对象\n",
    "#fetchall():接收全部的返回结果行.\n",
    "#rowcount: 这是一个只读属性，并返回执行execute()方法后影响的行数。\n",
    "\n",
    "#!/usr/bin/python\n",
    "# -*- coding: UTF-8 -*-\n",
    "\n",
    "import pymysql\n",
    "\n",
    "# 打开数据库连接\n",
    "cnx = pymysql.connect(user='root', password='guo840306', host='localhost', database='cnki',charset='utf8')  #填写数据库信息\n",
    "\n",
    "# 使用cursor()方法获取操作游标 \n",
    "cursor = cnx.cursor()\n",
    "\n",
    "# SQL 查询语句\n",
    "sql = \"SELECT * FROM CNKI \\\n",
    "       WHERE  download =='%d'\" % (0)   #下载为0次的\n",
    "       #WHERE page_num > '%d'\" % (50)  #页码大于50页\n",
    "try:\n",
    "    # 执行SQL语句\n",
    "    cursor.execute(sql)\n",
    "    # 获取所有记录列表  【只现实了先几个字段】\n",
    "    results = cursor.fetchall()\n",
    "    for row in results:\n",
    "        id = row[0]\n",
    "        paper_name = row[1]\n",
    "        author = row[2]\n",
    "        author_unit = row[3]\n",
    "        mag_name=row[4]\n",
    "        # 打印结果\n",
    "        print(\"id=%d,paper_name=%s,author=%s,author_unit=%s,mag_name=%s\" % (id, paper_name, author, author_unit, mag_name))\n",
    "except:\n",
    "    print(\"Error: unable to fecth data\")\n",
    "\n",
    "# 关闭数据库连接\n",
    "cnx.close()"
   ]
  },
  {
   "cell_type": "code",
   "execution_count": null,
   "metadata": {},
   "outputs": [],
   "source": [
    "#数据库更改操作\n",
    "#!/usr/bin/python\n",
    "# -*- coding: UTF-8 -*-\n",
    "\n",
    "import pymysql\n",
    "\n",
    "# 打开数据库连接\n",
    "cnx = pymysql.connect(user='root', password='guo840306', host='localhost', database='cnki',charset='utf8')  #填写数据库信息\n",
    "\n",
    "# 使用cursor()方法获取操作游标 \n",
    "cursor = cnx.cursor()\n",
    "\n",
    "# SQL 更新语句\n",
    "sql = \"UPDATE EMPLOYEE SET AGE = AGE + 1 WHERE SEX = '%c'\" % ('M')\n",
    "try:\n",
    "   # 执行SQL语句\n",
    "   cursor.execute(sql)\n",
    "   # 提交到数据库执行\n",
    "   cnx.commit()\n",
    "except:\n",
    "   # 发生错误时回滚\n",
    "   cnx.rollback()\n",
    "\n",
    "# 关闭数据库连接\n",
    "cnx.close()"
   ]
  },
  {
   "cell_type": "code",
   "execution_count": null,
   "metadata": {},
   "outputs": [],
   "source": [
    "#数据库删除操作\n",
    "#!/usr/bin/python\n",
    "# -*- coding: UTF-8 -*-\n",
    "\n",
    "import pymysql\n",
    "\n",
    "# 打开数据库连接\n",
    "cnx = pymysql.connect(user='root', password='guo840306', host='localhost', database='cnki',charset='utf8')  #填写数据库信息\n",
    "\n",
    "# 使用cursor()方法获取操作游标 \n",
    "cursor = cnx.cursor()\n",
    "\n",
    "# SQL 删除语句\n",
    "sql = \"DELETE FROM CNKI WHERE dowload == '%d'\" % (0)\n",
    "try:\n",
    "   # 执行SQL语句\n",
    "   cursor.execute(sql)\n",
    "   # 提交修改\n",
    "   cnx.commit()\n",
    "except:\n",
    "   # 发生错误时回滚\n",
    "   cnx.rollback()\n",
    "\n",
    "# 关闭连接\n",
    "cnx.close()"
   ]
  },
  {
   "cell_type": "code",
   "execution_count": null,
   "metadata": {},
   "outputs": [],
   "source": [
    "#本讲结束，下一讲：文本分析入门"
   ]
  }
 ],
 "metadata": {
  "kernelspec": {
   "display_name": "Python 3",
   "language": "python",
   "name": "python3"
  },
  "language_info": {
   "codemirror_mode": {
    "name": "ipython",
    "version": 3
   },
   "file_extension": ".py",
   "mimetype": "text/x-python",
   "name": "python",
   "nbconvert_exporter": "python",
   "pygments_lexer": "ipython3",
   "version": "3.6.2"
  }
 },
 "nbformat": 4,
 "nbformat_minor": 2
}
