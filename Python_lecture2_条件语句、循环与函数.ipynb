{
 "cells": [
  {
   "cell_type": "markdown",
   "metadata": {},
   "source": [
    "# Python语言与经济大数据分析"
   ]
  },
  {
   "cell_type": "markdown",
   "metadata": {},
   "source": [
    "# 第2讲 条件语句、循环与函数"
   ]
  },
  {
   "cell_type": "markdown",
   "metadata": {},
   "source": [
    "#郭峰（上海财经大学投资系副教授）\n",
    "#Email：guo.feng@mail.sufe.edu.cn\n",
    "#2019-03-12 \n",
    "#本讲目录\n",
    "#2.1 if语句\n",
    "#2.2 while 循环\n",
    "#2.3 for循环\n",
    "#2.4 break and continue\n",
    "#2.5 函数"
   ]
  },
  {
   "cell_type": "markdown",
   "metadata": {},
   "source": [
    "# 2.1 if语句"
   ]
  },
  {
   "cell_type": "code",
   "execution_count": null,
   "metadata": {},
   "outputs": [],
   "source": [
    "#Python中的语句规则\n",
    "#Python语句种类：顺序、选择、循环\n",
    "#缩进：用来表示同一关系的方法，在其他语言中通常用{}\n",
    "#选择和循环、函数等都要缩进，缩进往往要与冒号（：）结合使用，英文冒号\n",
    "#缩进是Python争议最大的特点之一，特别烦人\n",
    "#matlab等使用end代表语句块结束，python当中没有结束语句块的标志\n",
    "#下面两句都不能空格，否则会报错\n",
    "i=5  \n",
    "print(i)"
   ]
  },
  {
   "cell_type": "code",
   "execution_count": null,
   "metadata": {},
   "outputs": [],
   "source": [
    "#缩进的空格数量是可变的，但是所有代码块语句必须包含相同的缩进空白数量，这个必须严格执行。\n",
    "#Python语句中一般以新行作为为语句的结束符，有的语言要加分号（；）、逗号（，）等来作为语句的结束标志\n",
    "#但是我们可以使用斜杠（ \\）将一行的语句分为多行显示\n",
    "#语句中包含[], {} 或 () 括号就不需要使用多行连接符。\n",
    "a=[1,2,4,5,6,7\n",
    "   ,8,9,10]\n",
    "print(a)"
   ]
  },
  {
   "cell_type": "code",
   "execution_count": null,
   "metadata": {},
   "outputs": [],
   "source": [
    "# 语句块：满足一定条件时执行一次或多次的语句\n",
    "# 语句块创建方法是在代码前放置空格缩进，同样缩进就是同一语句块，缩进不同，就被认为非同一语句块\n",
    "# ：用来标识语句块的开始\n",
    "#选择执行\n",
    "x=1\n",
    "if x>0:\n",
    "    print('x是正数')    #自动回车会空了4格，但空2格似乎也可以"
   ]
  },
  {
   "cell_type": "code",
   "execution_count": null,
   "metadata": {},
   "outputs": [],
   "source": [
    "#在选择和循环结构中，条件表达式的值只要不是False、0（或0.0、0j等）、空值None、空列表、空元组、空集合、空字典、空字符串、空range对象\n",
    "#或其他空迭代对象，Python解释器均认为与True等价。\n",
    "#从这个意义上来讲，几乎所有的Python合法表达式都可以作为条件表达式，包括含有函数调用的表达式。\n",
    "x=-1\n",
    "if 3:\n",
    "    print('x是正数')"
   ]
  },
  {
   "cell_type": "code",
   "execution_count": null,
   "metadata": {},
   "outputs": [],
   "source": [
    "#选择与分支\n",
    "x=9\n",
    "if x%2==0:              #求余数运算\n",
    "    print('x是偶数')\n",
    "else:                   #这个不能缩进，否则会报错                 \n",
    "    print('x是奇数')"
   ]
  },
  {
   "cell_type": "code",
   "execution_count": null,
   "metadata": {},
   "outputs": [],
   "source": [
    "#条件链，注意缩进\n",
    "age = 3 \n",
    "if age >= 18: \n",
    "    print('adult')\n",
    "elif age >= 6:             #关键字elif是else if的缩写\n",
    "    print('teenager')\n",
    "else: \n",
    "    print('kid')"
   ]
  },
  {
   "cell_type": "code",
   "execution_count": null,
   "metadata": {},
   "outputs": [],
   "source": [
    "#Python还支持如下形式的表达式：\n",
    "#value1 if condition else value2\n",
    "#当条件表达式condition的值与True等价时，表达式的值为value1，否则表达式的值为value2（英语语法。。。。）\n",
    "\n",
    "a = 5\n",
    "print(6) if a>3 else print(5)\n",
    "#注：这个方法我没怎么用过"
   ]
  },
  {
   "cell_type": "code",
   "execution_count": null,
   "metadata": {},
   "outputs": [],
   "source": [
    "#条件语句可以嵌套，一个逻辑（语句块）增加一次空格\n",
    "x=9\n",
    "y=7\n",
    "if x==y:\n",
    "    print('x和y相等')\n",
    "else:\n",
    "    if x<y:\n",
    "        print('x比y小')\n",
    "    else:\n",
    "        print('x比y大')\n"
   ]
  },
  {
   "cell_type": "code",
   "execution_count": null,
   "metadata": {},
   "outputs": [],
   "source": [
    "#编写程序，判断今天是今年的第几天。\n",
    "import time\n",
    "date = time.localtime()\n",
    "print(date)\n",
    "year = date[0]\n",
    "month = date[1]\n",
    "day = date[2]\n",
    "day_month = [31, 28, 31, 30, 31, 30, 31, 31, 30, 31, 30, 31]\n",
    "if year%400==0 or (year%4==0 and year%100!=0): #判断是否为闰年\n",
    "    day_month[1] = 29\n",
    "if month==1:\n",
    "    print(day)\n",
    "else:\n",
    "    print(sum(day_month[:month-1])+day)"
   ]
  },
  {
   "cell_type": "code",
   "execution_count": null,
   "metadata": {},
   "outputs": [],
   "source": [
    "#错误与调试\n",
    "#在程序运行过程中，总会遇到各种各样的错误\n",
    "#语法错误，通常提示：SyntaxError，invalid syntax\n",
    "#运行错误：\n",
    "#运行过程中出现的错误\n",
    "#常有错误的提示，如死循环，无穷递归邓\n",
    "#异常\n",
    "#变量名是否写错（Name Error）\n",
    "#变量类型错误，参数错误等（Type Error）\n",
    "# 访问一个不存在的方法，通常是拼写错误（Attribute Error）\n",
    "# 列表、字符串或者元组下标越界（IndexError）"
   ]
  },
  {
   "cell_type": "markdown",
   "metadata": {},
   "source": [
    "# 2.2 while循环"
   ]
  },
  {
   "cell_type": "code",
   "execution_count": null,
   "metadata": {},
   "outputs": [],
   "source": [
    "#计算机可以通过循环来自动化重复性地处理某些任务\n",
    "# 重复相似的任务而不犯错误，这是电脑擅长于人之处\n",
    "# while语句实现累加\n",
    "i=1\n",
    "s=0\n",
    "while i<10:\n",
    "    s=s+i\n",
    "    i=i+1\n",
    "print(s)"
   ]
  },
  {
   "cell_type": "code",
   "execution_count": null,
   "metadata": {},
   "outputs": [],
   "source": [
    "#while语句规则\n",
    "#while  判断条件加冒号，下面空格\n",
    "#执行的语句可以是单个语句，也可以是语句块。\n",
    "#判断条件可以是任何表达式，任何非零、或非空（null）的值均为True\n",
    "#当判断语句条件为假False时，循环结束\n",
    "sum = 0\n",
    "n = 99 \n",
    "while n > 0: \n",
    "   sum = sum + n \n",
    "   n = n - 2 \n",
    "print (sum) "
   ]
  },
  {
   "cell_type": "markdown",
   "metadata": {},
   "source": [
    "# 2.3 for 循环"
   ]
  },
  {
   "cell_type": "code",
   "execution_count": null,
   "metadata": {},
   "outputs": [],
   "source": [
    "#语法规则于while基本相同\n",
    "sum = 0 \n",
    "for x in [1, 2, 3, 4, 5, 6, 7, 8, 9, 10]: \n",
    "    sum = sum + x \n",
    "print(sum) "
   ]
  },
  {
   "cell_type": "code",
   "execution_count": null,
   "metadata": {},
   "outputs": [],
   "source": [
    "#100以内累计求和，不含100\n",
    "sum = 0 \n",
    "for x in range(100):    \n",
    "    sum = sum + x \n",
    "print(sum) "
   ]
  },
  {
   "cell_type": "code",
   "execution_count": null,
   "metadata": {},
   "outputs": [],
   "source": [
    "#补充介绍range 函数\n",
    "a=range(10)\n",
    "print(a,a[2])"
   ]
  },
  {
   "cell_type": "code",
   "execution_count": null,
   "metadata": {},
   "outputs": [],
   "source": [
    "# 任何可迭代对象都可以作为for循环，包括我们自己定义的数据类型\n",
    "#只要符合迭代条件，就可以使用for循环，列表、元组、字符串都属于可迭代对象\n",
    "#尤其是字符串都可以作为迭代对象！\n",
    "for ch in 'abc':\n",
    "    print(ch)"
   ]
  },
  {
   "cell_type": "code",
   "execution_count": null,
   "metadata": {},
   "outputs": [],
   "source": [
    "for i,value in enumerate(['a','b','c']):    \n",
    "    print(i,value)\n",
    "# enumerate() 函数用于将一个可遍历的数据对象(如列表、元组或字符串)组合为一个索引序列，同时列出数据和数据下标，一般用在 for 循环当中。"
   ]
  },
  {
   "cell_type": "code",
   "execution_count": null,
   "metadata": {},
   "outputs": [],
   "source": [
    "#查找偶数和奇数\n",
    "numbers=[12, 37, 5, 42, 8, 3]\n",
    "even=[]\n",
    "odd=[]\n",
    "while len(numbers)>0:\n",
    "    number = numbers.pop()   #numbers少了最后1位，最后1位这个元素赋给了number\n",
    "    if number%2==0:\n",
    "        even.append(number)  #在even上拼接number\n",
    "    else:\n",
    "        odd.append(number)   #在odd上拼接number\n",
    "print(even)\n",
    "print(odd)\n",
    "print(numbers)"
   ]
  },
  {
   "cell_type": "code",
   "execution_count": null,
   "metadata": {},
   "outputs": [],
   "source": [
    "#for语句的其他用处，非常高级！！！\n",
    "[x * x for x in range(1, 11)] \n",
    "#[x * x for x in range(1, 11) if x % 2 == 0] #本句for 和if不能换位置\n",
    "#[m + n for m in 'ABC' for n in 'XYZ'] \n",
    "#L = ['Hello', 'World', 'IBM', 'Apple']\n",
    "#[s.lower() for s in L]"
   ]
  },
  {
   "cell_type": "code",
   "execution_count": null,
   "metadata": {},
   "outputs": [],
   "source": [
    "#但上述方法能生成列表，但似乎不能生成元组\n",
    "a = [x * x for x in range(10)] #[0, 1, 4, 9, 16, 25, 36, 49, 64, 81]\n",
    "b = (x * x for x in range(10)) #<generator object <genexpr> at 0x104feab40>\n",
    "print(l)\n",
    "print(g)"
   ]
  },
  {
   "cell_type": "code",
   "execution_count": null,
   "metadata": {},
   "outputs": [],
   "source": [
    "#循环的优化\n",
    "#为了优化程序以获得更高的效率和运行速度，在编写循环语句时，应尽量减少循环内部不必要的计算，\n",
    "#将与循环变量无关的代码尽可能地提取到循环之外。\n",
    "#对于使用多重循环嵌套的情况，应尽量减少内层循环中不必要的计算，尽可能地向外提。"
   ]
  },
  {
   "cell_type": "markdown",
   "metadata": {},
   "source": [
    "# 2.4 break和continue"
   ]
  },
  {
   "cell_type": "code",
   "execution_count": null,
   "metadata": {},
   "outputs": [],
   "source": [
    "#break语句在while循环和for循环中都可以使用，一般放在if选择结构中，一旦break语句被执行，将使得整个循环提前结束。\n",
    "#continue语句的作用是终止当前循环，并忽略continue之后的语句，然后回到循环的顶端，提前进入下一次循环。\n",
    "#除非break语句让代码更简单或更清晰，否则不要轻易使用。\n",
    "\n",
    "# break 语句\n",
    "#生成不超过100个随机数，得到第一个0.5-0.6之间的数，然后停止\n",
    "import random\n",
    "i=0\n",
    "y=0\n",
    "while i<100:\n",
    "    x=random.random()    \n",
    "    if x>=0.5 and x<=0.6:\n",
    "        #y=x*2\n",
    "        break              #满足该条件时，停止整个循环\n",
    "        y=x*2 \n",
    "    i=i+1\n",
    "print(x,y,i)   #y根本就没有执行，所以依然是0"
   ]
  },
  {
   "cell_type": "code",
   "execution_count": null,
   "metadata": {},
   "outputs": [],
   "source": [
    "# continue语句，\n",
    "import random\n",
    "i=0\n",
    "y=0\n",
    "while i<100:\n",
    "    x=random.random()\n",
    "    if x>=0.5 and x<=0.6:\n",
    "        #y=x*2\n",
    "        continue            #满足该条件时，停止本句下面语句块内容，执行下一个循环\n",
    "        y=x*2      \n",
    "    i=i+1\n",
    "print(x,y,i)\n"
   ]
  },
  {
   "cell_type": "code",
   "execution_count": null,
   "metadata": {},
   "outputs": [],
   "source": [
    "#循环中的else子句\n",
    "#在while，for等循环不满足条件时作的一些工作\n",
    "num=0\n",
    "while num<3:\n",
    "    print(num,\" 小于 3\")\n",
    "    num=num+1\n",
    "else:\n",
    "    print(num,\" 大于等于 3\")\n",
    "print(\"循环结束！\")"
   ]
  },
  {
   "cell_type": "code",
   "execution_count": null,
   "metadata": {},
   "outputs": [],
   "source": [
    "#打印100以内的素数\n",
    "i=1\n",
    "while i<100:\n",
    "    i=i+1\n",
    "    j=2\n",
    "    n=int(i**0.5)\n",
    "    while j<=n:\n",
    "        if i % j==0:\n",
    "            break\n",
    "        j=j+1     \n",
    "    if(j==n+1):\n",
    "        print(str(i)+\" is prime number\")   # is 前面可以加个空格"
   ]
  },
  {
   "cell_type": "code",
   "execution_count": null,
   "metadata": {},
   "outputs": [],
   "source": [
    "#查找字符在一个字符串的位置\n",
    "word='hello word'\n",
    "letter='o'\n",
    "index=0\n",
    "for i in word:\n",
    "    if i==letter:\n",
    "        print(index)\n",
    "    index+=1\n",
    "word.find('o') #只找第一个"
   ]
  },
  {
   "cell_type": "code",
   "execution_count": null,
   "metadata": {},
   "outputs": [],
   "source": [
    "#查找中文字符在一个字符串的位置\n",
    "chword='我爱我的祖国，我的祖国爱我吗？'\n",
    "letter='祖'\n",
    "index=0\n",
    "for i in chword:\n",
    "    if i==letter:\n",
    "        print(index)\n",
    "    index+=1\n",
    "chword.find('祖') #只找第一个"
   ]
  },
  {
   "cell_type": "code",
   "execution_count": null,
   "metadata": {},
   "outputs": [],
   "source": [
    "#使用循环语句，要避免出现死循环的问题\n",
    "i=1\n",
    "while i<10:\n",
    "    if i%2==0:\n",
    "        continue\n",
    "    else:\n",
    "        print(i)   #出现了死循环\n",
    "        i+=1\n"
   ]
  },
  {
   "cell_type": "code",
   "execution_count": null,
   "metadata": {},
   "outputs": [],
   "source": [
    "#这样子就不会有问题\n",
    "\n",
    "for i in range(10):\n",
    "    if i%2==0:\n",
    "        continue\n",
    "    else:\n",
    "        print(i)\n"
   ]
  },
  {
   "cell_type": "code",
   "execution_count": null,
   "metadata": {},
   "outputs": [],
   "source": [
    "#作业1：鸡兔同笼问题。假设共有鸡、兔30只，脚90只，求鸡、兔各有多少只。\n",
    "#作业2：编写程序，输出由1、2、3、4这四个数字组成的每位数都不相同的所有三位数。"
   ]
  },
  {
   "cell_type": "markdown",
   "metadata": {},
   "source": [
    "# 2.5 函数"
   ]
  },
  {
   "cell_type": "code",
   "execution_count": null,
   "metadata": {},
   "outputs": [],
   "source": [
    "#函数是实现代码重复使用的一种方式\n",
    "# def 开头定义函数，依然加冒号：\n",
    "# Python提供了很多内置函数\n",
    "print(abs(-20))\n",
    "print(int(3.5))\n",
    "print(float(5))\n",
    "print(str(6))"
   ]
  },
  {
   "cell_type": "code",
   "execution_count": null,
   "metadata": {},
   "outputs": [],
   "source": [
    "#自定义函数\n",
    "# 所有的传入的参数和自变量都必须放在圆括号内，可以在圆括号内定义参数\n",
    "#参数类型和数值要匹配\n",
    "#return后面表示返回值\n",
    "r1 = 1\n",
    "r2 = 2 \n",
    "r3 = 3 \n",
    "s1 = 3.14 * r1 * r1 \n",
    "s2 = 3.14 * r2 * r2 \n",
    "s3 = 3.14 * r3 * r3 \n",
    "def area(x): \n",
    "    if x >= 0: \n",
    "        return 3.14*x*x \n",
    "    else: \n",
    "        return 0 \n",
    "print(area(r1))\n",
    "print(area(r2))\n",
    "print(area(r3))\n",
    "\n",
    "#计算类函数，一般都需要返回值\n",
    "#流程类函数，事务性函数，一般可以不返回值，\n",
    "#但可以将理结果的状态作为返回值（成功或失败）\n",
    "#没有return语句时，函数执行完也会返回结果，不过结果为None\n",
    "#return None 可以简写为return"
   ]
  },
  {
   "cell_type": "code",
   "execution_count": null,
   "metadata": {},
   "outputs": [],
   "source": [
    "#一个简单示例，电话号码 15121035928，将其中间的四个数字用****代替\n",
    "def phone_num(number):\n",
    "    hiding_num=number.replace(number[3:7],'*'*4)\n",
    "    print(hiding_num)\n",
    "phone_num('15121035928')"
   ]
  },
  {
   "cell_type": "code",
   "execution_count": null,
   "metadata": {},
   "outputs": [],
   "source": [
    "#函数的参数\n",
    "#默认参数，减少调用书写，必须按照顺序\n",
    "def power(x, n=2): #n直接给定也可以，n=2\n",
    "    s = 1 \n",
    "    while n > 0: \n",
    "        n = n - 1 \n",
    "        s = s * x \n",
    "    return s \n",
    "print(power(5,4))\n",
    "print(power(5))  #定义时n直接给定，则这一条可以执行，否则不能执行"
   ]
  },
  {
   "cell_type": "code",
   "execution_count": null,
   "metadata": {},
   "outputs": [],
   "source": [
    "#可变参数，关于函数的各种参数详见刘宇宙，p149-p155\n",
    "def calc(*numbers):  #可以填入多个任意参数\n",
    "    sum = 0 \n",
    "    for n in numbers: \n",
    "        sum = sum + n * n \n",
    "    return sum \n",
    "calc(1, 2)\n",
    "#calc(1, 2,3,4,5)"
   ]
  },
  {
   "cell_type": "code",
   "execution_count": null,
   "metadata": {},
   "outputs": [],
   "source": [
    "b=1+4+9+16+25\n",
    "print(b)"
   ]
  },
  {
   "cell_type": "code",
   "execution_count": null,
   "metadata": {},
   "outputs": [],
   "source": [
    "#股票代码标识，6开头加上XSHG，否则为XSHE\n",
    "def replace_code(code):\n",
    "    if code[0]=='6':\n",
    "        code2=code+'.XSHG'\n",
    "    else:\n",
    "        code2=code+'.XSHE'\n",
    "    return code2\n",
    "x=replace_code('300059')\n",
    "print(x)"
   ]
  },
  {
   "cell_type": "code",
   "execution_count": null,
   "metadata": {},
   "outputs": [],
   "source": [
    "# 函数中的参数\n",
    "#函数中的参数是局部变量，只在函数内有效，函数之外失效\n",
    "def ChangeInt( a ):\n",
    "    b = a*2\n",
    "    return  b\n",
    "b = 2\n",
    "print(ChangeInt(b))\n",
    "print( b)  # 结果是 2"
   ]
  },
  {
   "cell_type": "code",
   "execution_count": null,
   "metadata": {},
   "outputs": [],
   "source": [
    "#递归函数，函数调用自己，可以起到出其不意的效果\n",
    "def countdown(n):\n",
    "    if n<=0:\n",
    "        print('出口')\n",
    "    else:\n",
    "        print(n)\n",
    "        countdown(n-1)\n",
    "countdown(5)\n",
    "#一定要有出口，且逐渐逼近出口，否则无限递归"
   ]
  },
  {
   "cell_type": "code",
   "execution_count": null,
   "metadata": {},
   "outputs": [],
   "source": [
    "def Binom(n, k):\n",
    "    if k == 0:\n",
    "        return 1\n",
    "    if n == 0:\n",
    "        return 0\n",
    "    res = Binom(n-1, k) + Binom(n-1, k-1)\n",
    "    return res\n",
    "Binom(5, 3)"
   ]
  },
  {
   "cell_type": "code",
   "execution_count": null,
   "metadata": {},
   "outputs": [],
   "source": [
    "# 函数\n",
    "def fact(n):\n",
    "    if n==1:\n",
    "        return 1\n",
    "    return n * fact(n - 1)\n",
    "fact(5)"
   ]
  },
  {
   "cell_type": "code",
   "execution_count": null,
   "metadata": {},
   "outputs": [],
   "source": [
    "#匿名函数\n",
    "#匿名函数就是不再使用def语句这样的标准形式顶一个函数\n",
    "#Python用lambda来创建匿名函数\n",
    "my_lambda = lambda arg : arg + 1\n",
    "print(my_lambda(123))\n",
    "\n",
    "test= lambda x,y:x+y*2\n",
    "print(test(2,1))\n",
    "\n",
    "#匿名函数优势：\n",
    "#使用Python写一些脚本时，使用lambda可以省去定义函数的过程，让代码更加精简。\n",
    "#对于一些抽象的，不会被别的地方再重复使用的函数，有时候函数起个名字也是个难题，使用lambda不需要考虑命名的问题\n",
    "#使用lambda在某些时候然后代码更容易理解"
   ]
  },
  {
   "cell_type": "code",
   "execution_count": null,
   "metadata": {},
   "outputs": [],
   "source": [
    "#求列表中大于3的元素\n",
    "a1=[1,2,4,3,5]\n",
    "print([item for item in filter(lambda x:x>3,a1)])\n",
    "#求列表中3的倍数\n",
    "a2=[i for i in filter(lambda x:x%3==0,[1,2,3,4,5,6])]\n",
    "print(a2)"
   ]
  },
  {
   "cell_type": "code",
   "execution_count": null,
   "metadata": {},
   "outputs": [],
   "source": [
    "#本讲结束，下一讲：数据读取与存储"
   ]
  }
 ],
 "metadata": {
  "kernelspec": {
   "display_name": "Python 3",
   "language": "python",
   "name": "python3"
  },
  "language_info": {
   "codemirror_mode": {
    "name": "ipython",
    "version": 3
   },
   "file_extension": ".py",
   "mimetype": "text/x-python",
   "name": "python",
   "nbconvert_exporter": "python",
   "pygments_lexer": "ipython3",
   "version": "3.6.2"
  }
 },
 "nbformat": 4,
 "nbformat_minor": 2
}
