{
 "cells": [
  {
   "cell_type": "markdown",
   "metadata": {
    "deletable": true,
    "editable": true
   },
   "source": [
    "# Python语言与经济大数据分析"
   ]
  },
  {
   "cell_type": "markdown",
   "metadata": {
    "deletable": true,
    "editable": true
   },
   "source": [
    "# 第7_2讲 数据可视化实例:中国数字普惠金融指数"
   ]
  },
  {
   "cell_type": "markdown",
   "metadata": {
    "deletable": true,
    "editable": true
   },
   "source": [
    "#郭峰（上海财经大学投资系副教授）\n",
    "#Email：guo.feng@mail.sufe.edu.cn\n",
    "#2019-01-19\n",
    "#本讲主要以中国数字普惠金融指数为例，阐述pyecharts地图绘图的功能,\n",
    "#本讲原始code来自蚂蚁金服研究院专家方芳，按照自己的习惯改编"
   ]
  },
  {
   "cell_type": "code",
   "execution_count": null,
   "metadata": {
    "collapsed": true,
    "deletable": true,
    "editable": true
   },
   "outputs": [],
   "source": [
    "#首先要安装相关地图\n",
    "#(1)、全球国家地图: echarts-countries-pypkg (1.9MB): 世界地图和 213 个国家，包括中国地图\n",
    "#(2)、中国省级地图: echarts-china-provinces-pypkg (730KB)：23 个省，5 个自治区\n",
    "#(3)、中国市级地图: echarts-china-cities-pypkg (3.8MB)：370 个中国城市\n",
    "#(4)、中国县区级地图: echarts-china-counties-pypkg (4.1MB)：2882 个中国县·区\n",
    "#(5)、中国区域地图: echarts-china-misc-pypkg (148KB)：11 个中国区域地图，比如华南、华北\n",
    "#pip install pyecharts\n",
    "#$ pip install echarts-countries-pypkg\n",
    "#$ pip install echarts-china-provinces-pypkg\n",
    "#$ pip install echarts-china-cities-pypkg\n",
    "#$ pip install echarts-china-misc-pypkg\n",
    "#$ pip install echarts-united-kingdom-pypkg"
   ]
  },
  {
   "cell_type": "code",
   "execution_count": 1,
   "metadata": {
    "collapsed": false,
    "deletable": true,
    "editable": true
   },
   "outputs": [
    {
     "name": "stderr",
     "output_type": "stream",
     "text": [
      "ERROR:lml.utils:failed to import pyecharts_snapshot\n",
      "Traceback (most recent call last):\n",
      "  File \"D:\\python\\WinPython-64bit-3.6.2.0Qt5\\python-3.6.2.amd64\\lib\\site-packages\\lml\\utils.py\", line 43, in do_import\n",
      "    plugin_module = __import__(plugin_module_name)\n",
      "ModuleNotFoundError: No module named 'pyecharts_snapshot'\n"
     ]
    },
    {
     "name": "stdout",
     "output_type": "stream",
     "text": [
      "  city_name  city_code  year17  year16  year15  year14  year13  year12  year11\n",
      "0       北京市       1100  351.44  299.74  222.21  190.68  178.97  135.73   80.78\n",
      "1       天津市       1200  309.15  254.88  193.66  165.33  151.01  114.74   73.70\n",
      "2      石家庄市       1301  305.13  243.73  181.16  150.43  140.76   98.05   59.25\n",
      "3       唐山市       1302  283.22  227.72  170.82  146.30  133.93   96.38   61.74\n",
      "4      秦皇岛市       1303  292.20  233.67  177.04  149.98  135.52   95.14   56.10\n",
      "    city_name  city_code  year17  year16  year15  year14  year13  year12  \\\n",
      "332      喀什地区       6531  246.39  182.02  147.43  117.78   97.98   56.46   \n",
      "333      和田地区       6532  239.56  169.25  136.30  155.33  108.93   40.15   \n",
      "334  伊犁哈萨克自治州       6540  253.66  182.63  154.93  138.81  105.28   73.21   \n",
      "335      塔城地区       6542  266.74  198.67  161.96  128.79  104.30   86.71   \n",
      "336     阿勒泰地区       6543  260.30  190.86  153.90  130.81   90.37   47.97   \n",
      "\n",
      "     year11  \n",
      "332   30.79  \n",
      "333   28.78  \n",
      "334   29.18  \n",
      "335   25.91  \n",
      "336   37.52  \n"
     ]
    }
   ],
   "source": [
    "# -*- coding:utf-8 -*- \n",
    "#sys.setdefaultencoding(“utf-8”) 这种方式在3.x中被彻底遗弃，在3.x中已经被毙掉了被替换为\n",
    "#导入相关模块\n",
    "import sys \n",
    "#reload(sys)  \n",
    "#sys.setdefaultencoding('utf8')\n",
    "import importlib\n",
    "importlib.reload(sys)\n",
    "#script src=\"echarts.min.js\" charset = \"utf-8\"/script\n",
    "#script src=\"china.js\" charset =\"utf-8\"></script\n",
    "\n",
    "from pyecharts import Overlap, Bar, Line, Grid\n",
    "from pyecharts import HeatMap\n",
    "from pyecharts import Geo\n",
    "import numpy as np\n",
    "import pandas as pd\n",
    "\n",
    "#城市指数画图\n",
    "\n",
    "#导入数据\n",
    "path=\"D:/python/普惠金融指数/\"\n",
    "f1 = open(path+\"城市总指数.csv\",encoding='utf8')\n",
    "index_city= pd.read_csv(f1,header=0,sep=',')\n",
    "index_city['city_code']=index_city['city_code'].astype(int)\n",
    "\n",
    "#pyecharts是以城市名称来匹配的，存在一些更名的问题，需要变更，有的不知道正确名称是什么，需要知道底层代码，例如黔西南和克州，不知道为什么没有\n",
    "#底层列表找到了，但黔西南、克州、三沙市依然是缺失的，特别是前两个，不可理喻\n",
    "#如果是画点图，黔西南和克州可以分别以州府所在的县级市代替，不会影响其准确性，但如果是面图，就有点问题了\n",
    "index_city['city_name'].replace('菏泽市',\"菏泽\",inplace=True)\n",
    "index_city['city_name'].replace('襄阳市',\"襄樊市\",inplace=True)\n",
    "#index_city['city_name'].replace('三沙市',\"三沙\",inplace=True)\n",
    "index_city=index_city[ ~ index_city['city_name'].str.contains('三沙市') ]\n",
    "index_city['city_name'].replace('普洱市',\"思茅\",inplace=True)\n",
    "index_city['city_name'].replace('昌都市',\"昌都地区\",inplace=True)\n",
    "index_city['city_name'].replace('林芝市',\"林芝地区\",inplace=True)\n",
    "index_city['city_name'].replace('山南市',\"山南地区\",inplace=True)\n",
    "index_city['city_name'].replace('那曲市',\"那曲地区\",inplace=True)\n",
    "index_city['city_name'].replace('海东市',\"海东地区\",inplace=True)\n",
    "#index_city=index_city[ ~ index_city['city_name'].str.contains('黔西南布依族苗族自治州') ]\n",
    "#index_city=index_city[ ~ index_city['city_name'].str.contains('克孜勒苏柯尔克孜自治州') ]\n",
    "index_city['city_name'].replace('黔西南布依族苗族自治州',\"兴义市\",inplace=True)\n",
    "index_city['city_name'].replace('克孜勒苏柯尔克孜自治州',\"阿图什市\",inplace=True)\n",
    "print(index_city.head())\n",
    "print(index_city.tail())\n",
    "\n",
    "\n",
    "#画图函数\n",
    "def map_grap(data,kind,k,year,index_max):  #数据的几个参数，可以自己设置\n",
    "    attr1=list(data.iloc[:,0])  #数据第一列，城市名，这个code是以城市名称来进行识别的，不够专业\n",
    "    value1=list(data.iloc[:,k]) #data的第k列，不同年份指数\n",
    "    geo = Geo(\n",
    "        \"%s年数字普惠金融指数%s\"%(year,kind),   #标题\n",
    "        title_color=\"#fff\",               #标题颜色\n",
    "        title_pos=\"center\",               #标题位置\n",
    "        width=1200,                        #图片宽度\n",
    "        height=600,                        #图片高度\n",
    "        title_text_size=26,                #标题大小\n",
    "        background_color=\"#404a00\")        #背景颜色\n",
    "    geo.add(\n",
    "        \"\",\n",
    "        attr1,\n",
    "        value1,\n",
    "        visual_range=[0, index_max],\n",
    "        visual_text_color=\"#fff\",\n",
    "        symbol_size=15,                  #标记点的大小\n",
    "        is_visualmap=True,\n",
    "        is_piecewise=True,visual_split_number=4,type='effectScatter',   #4代表将标记点分为四组，分类展示\n",
    "        is_label_emphasis=True)   #label_formatter='{b}',is_label_show=True,\n",
    "    geo.render(path+\"city_puhui_%s_map_%s.html\" %(kind,year))\n",
    "    \n",
    "map_grap(index_city,\"总指数\",2,2017,385)\n",
    "map_grap(index_city,\"总指数\",3,2016,385)\n",
    "map_grap(index_city,\"总指数\",4,2015,385)\n",
    "map_grap(index_city,\"总指数\",5,2014,385)\n",
    "map_grap(index_city,\"总指数\",6,2013,385)\n",
    "map_grap(index_city,\"总指数\",7,2012,385)\n",
    "map_grap(index_city,\"总指数\",8,2011,385)"
   ]
  },
  {
   "cell_type": "code",
   "execution_count": 9,
   "metadata": {
    "collapsed": false,
    "deletable": true,
    "editable": true
   },
   "outputs": [
    {
     "name": "stdout",
     "output_type": "stream",
     "text": [
      "  county_name county_name2  county_city  prov_code prov_name  city_code  \\\n",
      "0         通州区          通州区       110112         11       北京市       1100   \n",
      "1         大兴区          大兴区       110115         11       北京市       1100   \n",
      "2         怀柔区          怀柔区       110116         11       北京市       1100   \n",
      "3         平谷区          平谷区       110117         11       北京市       1100   \n",
      "4         密云区          密云县       110118         11       北京市       1100   \n",
      "\n",
      "  city_name    year2017  Unnamed: 8  Unnamed: 9  Unnamed: 10  \n",
      "0       北京市  126.501718         NaN         NaN          NaN  \n",
      "1       北京市  127.386776         NaN         NaN          NaN  \n",
      "2       北京市  117.253779         NaN         NaN          NaN  \n",
      "3       北京市  117.206912         NaN         NaN          NaN  \n",
      "4       北京市   92.796805         NaN         NaN          NaN  \n",
      "     county_name county_name2  county_city  prov_code prov_name  city_code  \\\n",
      "1982         富蕴县          富蕴县       654322         65  新疆维吾尔自治区       6543   \n",
      "1983         福海县          福海县       654323         65  新疆维吾尔自治区       6543   \n",
      "1984        哈巴河县         哈巴河县       654324         65  新疆维吾尔自治区       6543   \n",
      "1985         青河县          青河县       654325         65  新疆维吾尔自治区       6543   \n",
      "1986        吉木乃县         吉木乃县       654326         65  新疆维吾尔自治区       6543   \n",
      "\n",
      "     city_name    year2017  Unnamed: 8  Unnamed: 9  Unnamed: 10  \n",
      "1982     阿勒泰地区  103.684389         NaN         NaN          NaN  \n",
      "1983     阿勒泰地区  105.624233         NaN         NaN          NaN  \n",
      "1984     阿勒泰地区  102.056134         NaN         NaN          NaN  \n",
      "1985     阿勒泰地区  104.102889         NaN         NaN          NaN  \n",
      "1986     阿勒泰地区  102.618546         NaN         NaN          NaN  \n",
      "(1987, 11)\n",
      "(1961, 11)\n"
     ]
    }
   ],
   "source": [
    "#县级指数绘图\n",
    "#导入相关模块\n",
    "import sys \n",
    "#reload(sys)  \n",
    "#sys.setdefaultencoding('utf8')\n",
    "import importlib\n",
    "importlib.reload(sys)\n",
    "#script src=\"echarts.min.js\" charset = \"utf-8\"/script\n",
    "#script src=\"china.js\" charset =\"utf-8\"></script\n",
    "\n",
    "from pyecharts import Overlap, Bar, Line, Grid\n",
    "from pyecharts import HeatMap\n",
    "from pyecharts import Geo\n",
    "import numpy as np\n",
    "import pandas as pd\n",
    "\n",
    "#导入数据\n",
    "path=\"D:/python/普惠金融指数/\"\n",
    "f1 = open(path+\"县域总指数.csv\",encoding='utf8')\n",
    "index_county= pd.read_csv(f1,header=0,sep=',')\n",
    "print(index_county.head())\n",
    "print(index_county.tail())\n",
    "\n",
    "#找到了底层列表，但县一级依然有上百个地区没有识别出来，涉及到2017年的指数，大概也有20来个地区没有识别出来\n",
    "print(index_county.shape)\n",
    "index_county.dropna(subset=[\"county_name2\"],inplace=True)  \n",
    "print(index_county.shape)\n",
    "\n",
    "\n",
    "def map_grap(data,kind,city,k,year,index_max):\n",
    "\n",
    "    attr1=list(data.iloc[:,1])\n",
    "    value1=list(data.iloc[:,k])\n",
    "    geo = Geo(\n",
    "#        \"%s Digital Inclusive Financial\" \" %s\"%(year,kind),\n",
    "        \"%s年县域数字普惠金融指数_%s\"%(year,kind),\n",
    "        title_color=\"#fff\",\n",
    "        title_pos=\"center\",\n",
    "        width=1200,\n",
    "        height=600,\n",
    "        title_text_size=26,\n",
    "        background_color=\"#404a00\")\n",
    "    geo.add(\n",
    "        \"\",\n",
    "        attr1,\n",
    "        value1,\n",
    "        visual_range=[0, index_max],\n",
    "        visual_text_color=\"#fff\",\n",
    "        symbol_size=3,\n",
    "        is_visualmap=True,\n",
    "        is_piecewise=True,visual_split_number=6,type='effectScatter',\n",
    "        is_label_emphasis=True)   #label_formatter='{b}',is_label_show=True,\n",
    "#    geo.render(root_dir+\"city_puhui_totindex_map_%s.html\" %(year))\n",
    "    geo.render(path+\"%s_puhui_%s_map_%s.html\" %(city,kind,year))\n",
    "\n",
    "map_grap(index_county,\"总指数\",\"county\",7,2017,1987)"
   ]
  },
  {
   "cell_type": "code",
   "execution_count": 35,
   "metadata": {
    "collapsed": false,
    "deletable": true,
    "editable": true
   },
   "outputs": [
    {
     "name": "stdout",
     "output_type": "stream",
     "text": [
      "   city_name  index\n",
      "69       徐州市      1\n",
      "70     乌鲁木齐市      1\n",
      "71       邢台市      1\n",
      "72       邯郸市      1\n",
      "73       西安市      1\n",
      "  city_name  index\n",
      "0       海口市      1\n",
      "1       福州市      1\n",
      "2      张家口市      1\n",
      "3       舟山市      1\n",
      "4       厦门市      1\n"
     ]
    }
   ],
   "source": [
    "#另一应用：雾霾月度排名涉及到的城市\n",
    "import sys \n",
    "#reload(sys)  \n",
    "#sys.setdefaultencoding('utf8')\n",
    "import importlib\n",
    "importlib.reload(sys)\n",
    "#script src=\"echarts.min.js\" charset = \"utf-8\"/script\n",
    "#script src=\"china.js\" charset =\"utf-8\"></script\n",
    "\n",
    "from pyecharts import Overlap, Bar, Line, Grid\n",
    "from pyecharts import HeatMap\n",
    "from pyecharts import Geo\n",
    "import numpy as np\n",
    "import pandas as pd\n",
    "\n",
    "#导入数据\n",
    "path=\"D:/python/普惠金融指数/\"\n",
    "\n",
    "f1 = open(path+\"大中城市.csv\",encoding='utf8')\n",
    "index_city= pd.read_csv(f1,header=0,sep=',')\n",
    "print(index_city.tail())\n",
    "print(index_city.head())\n",
    "\n",
    "def map_grap(data,kind,k,year,index_max):\n",
    "    attr1=list(data.iloc[:,0])\n",
    "    value1=list(data.iloc[:,k])\n",
    "    geo = Geo(\n",
    "#        \"%s Digital Inclusive Financial\" \" %s\"%(year,kind),\n",
    "        \"排名城市地理分布\",\n",
    "        title_color=\"#fff\",\n",
    "        title_pos=\"center\",\n",
    "        width=1200,\n",
    "        height=600,\n",
    "        title_text_size=26,\n",
    "        background_color=\"#404a00\")\n",
    "    geo.add(\n",
    "        \"\",\n",
    "        attr1,\n",
    "        value1,\n",
    "        visual_range=[0, index_max],\n",
    "        visual_text_color=\"#fff\",\n",
    "        symbol_size=10,\n",
    "        is_visualmap=True,\n",
    "        is_piecewise=True,visual_split_number=1,type='effectScatter',\n",
    "        is_label_emphasis=True)   #label_formatter='{b}',is_label_show=True,\n",
    "#    geo.render(root_dir+\"city_puhui_totindex_map_%s.html\" %(year))\n",
    "    geo.render(path+\"雾霾排名城市.html\" )\n",
    "    \n",
    "map_grap(index_city,\"总指数\",1,2017,385)"
   ]
  },
  {
   "cell_type": "code",
   "execution_count": null,
   "metadata": {
    "collapsed": true,
    "deletable": true,
    "editable": true
   },
   "outputs": [],
   "source": []
  }
 ],
 "metadata": {
  "kernelspec": {
   "display_name": "Python 3",
   "language": "python",
   "name": "python3"
  },
  "language_info": {
   "codemirror_mode": {
    "name": "ipython",
    "version": 3
   },
   "file_extension": ".py",
   "mimetype": "text/x-python",
   "name": "python",
   "nbconvert_exporter": "python",
   "pygments_lexer": "ipython3",
   "version": "3.5.2"
  }
 },
 "nbformat": 4,
 "nbformat_minor": 2
}
